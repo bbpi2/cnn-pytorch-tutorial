{
 "cells": [
  {
   "cell_type": "markdown",
   "id": "4d975d00",
   "metadata": {},
   "source": [
    "# Convolutional Neural Networks in `PyTorch`\n",
    "\n",
    "This tutorial was heavily borrowed from the [d2l.ia](http://d2l.ai/). Major changes made include:\n",
    "* Simplification and adaptation to cpu-only implementation\n",
    "* Comments and descriptions of the functions\n",
    "\n",
    "Note the sample code in the d2l.ia [repo](https://github.com/d2l-ai/d2l-en) is subject to a modified [MIT License](https://en.wikipedia.org/wiki/MIT_License)"
   ]
  },
  {
   "cell_type": "code",
   "execution_count": 1,
   "id": "d5ff1d19",
   "metadata": {},
   "outputs": [],
   "source": [
    "import torch \n",
    "import torchvision\n",
    "from torch import nn \n",
    "from torchvision import transforms\n",
    "from torch.utils import data\n",
    "import random\n",
    "import matplotlib.pyplot as plt\n",
    "import time\n",
    "from IPython import display\n",
    "import numpy as np\n",
    "# import tute.helper as helper\n",
    "# from tute.helper import Accumulator\n",
    "\n",
    "random.seed(2021)"
   ]
  },
  {
   "cell_type": "markdown",
   "id": "79e71401",
   "metadata": {},
   "source": [
    "### <font color='red'>STOP: Run the two helper function cells below before proceeding</font>"
   ]
  },
  {
   "cell_type": "code",
   "execution_count": 2,
   "id": "ffbbfab8",
   "metadata": {},
   "outputs": [],
   "source": [
    "# from importlib import reload\n",
    "# helper = reload(helper)"
   ]
  },
  {
   "cell_type": "markdown",
   "id": "fb234b3f",
   "metadata": {},
   "source": [
    "## About the Data\n",
    "\n",
    "* MNIST is a repository of images containing hand-written digits (0-9) used as a canonical test for CNNs\n",
    "* Today we will be using a slightly different dataset known as *fashion* MNIST\n",
    "* Fashion MNIST dataset can be obtained by a quick google search and in places such as [Kaggle](https://www.kaggle.com/zalando-research/fashionmnist)\n",
    "\n",
    "#### About Fashion MNIST\n",
    "* Each instance/example is a single image (28x28 pixels -- a total of 784 pixels)\n",
    "* The entire image is represented by a `torch.tensor()` object (effectively a matrix)\n",
    "* The value in each pixel represents the darkness of each pixel (0 to 255)\n",
    "* Each image is categorised as follows:\n",
    "    0. T-shirt/top\n",
    "    1. Trouser\n",
    "    2. Pullover\n",
    "    3. Dress\n",
    "    4. Coat\n",
    "    5. Sandal\n",
    "    6. Shirt\n",
    "    7. Sneaker\n",
    "    8. Bag\n",
    "    9. Ankle Boot\n",
    "* There are 70,000 instances of these images\n",
    "\n",
    "The library `torchvision` provides access to various repositories of training data (such as the Fashion MNIST). Here we write a function to download data from the `torchvision` servers and save it into our local directory. Note this is saved usually in the `anaconda` folder of your personal drive if you are using Anaconda. There is something special about this format we will discuss soon.\n",
    "\n",
    "#### Train-Test Set\n",
    "Best practice for machine learning dictates you separate your labelled data into three groups:\n",
    "* `Train` -- this is the data we use to fit the model (n=60,000)\n",
    "* `Validate` -- we will not be using this today to tune hyper-parameters\n",
    "* `Test` -- this is the data we use to determine the model performance (n=10,000)"
   ]
  },
  {
   "cell_type": "code",
   "execution_count": 4,
   "id": "8ded545a",
   "metadata": {},
   "outputs": [],
   "source": [
    "def load_data_fashion_mnist(batch_size, n_workers=4 , resize=None):\n",
    "    \"\"\"Download the Fashion-MNIST dataset and then load it into memory.\"\"\"\n",
    "    trans = [transforms.ToTensor()]\n",
    "    if resize:\n",
    "        trans.insert(0, transforms.Resize(resize))\n",
    "    trans = transforms.Compose(trans)\n",
    "    mnist_train = torchvision.datasets.FashionMNIST(root=\"../data\",\n",
    "                                                    train=True,\n",
    "                                                    transform=trans,\n",
    "                                                    download=True)\n",
    "    mnist_test = torchvision.datasets.FashionMNIST(root=\"../data\",\n",
    "                                                   train=False,\n",
    "                                                   transform=trans,\n",
    "                                                   download=True)\n",
    "    return (data.DataLoader(mnist_train, batch_size, shuffle=True,\n",
    "                            num_workers=n_workers),\n",
    "            data.DataLoader(mnist_test, batch_size, shuffle=False,\n",
    "                            num_workers=n_workers))"
   ]
  },
  {
   "cell_type": "markdown",
   "id": "042bbbe8",
   "metadata": {},
   "source": [
    "#### `torch.utils.data.DataLoader` format\n",
    "Typically, when you work with datasets, you download it into your directory and you work directly with it. This is fine for smaller datasets, but when you work with massive datasets this can be unworkable. You may not have enough RAM to store the dataset in memory, and often times, you don't *need* to use all the data at the same time. `torch` comes with a useful class called `DataLoader`. Rather than directly download your dataset, it allows you to define an iterable. With an iterable, you only access the data when needed using special functions, ensuring both parallisability and efficiency.\n",
    "\n",
    "First we must determine a batch-size:\n",
    "* Small batch sizes ensures frequent updating of the model (leading to fewer epochs required), but can be more computationally expensive\n",
    "* Large batch sizes are easier to run but can require more epochs to converge"
   ]
  },
  {
   "cell_type": "code",
   "execution_count": 5,
   "id": "301d91d0",
   "metadata": {},
   "outputs": [],
   "source": [
    "batch_size = 256\n",
    "train_iter, test_iter = load_data_fashion_mnist(batch_size=batch_size) # n=60000"
   ]
  },
  {
   "cell_type": "markdown",
   "id": "762c4936",
   "metadata": {},
   "source": [
    "You may get the following error:\n",
    "\n",
    "```\n",
    "C:\\Users\\Brian\\anaconda3\\envs\\ML-sandbox\\lib\\site-packages\\torchvision\\datasets\\mnist.py:498: UserWarning: The given NumPy array is not writeable, and PyTorch does not support non-writeable tensors. This means you can write to the underlying (supposedly non-writeable) NumPy array using the tensor. You may want to copy the array to protect its data or make it writeable before converting it to a tensor. This type of warning will be suppressed for the rest of this program. (Triggered internally at  ..\\torch\\csrc\\utils\\tensor_numpy.cpp:180.)\n",
    "  return torch.from_numpy(parsed.astype(m[2], copy=False)).view(*s)\n",
    "  \n",
    "```\n",
    "\n",
    "This can be ignored"
   ]
  },
  {
   "cell_type": "code",
   "execution_count": 6,
   "id": "a17939dd",
   "metadata": {},
   "outputs": [
    {
     "name": "stdout",
     "output_type": "stream",
     "text": [
      "<torch.utils.data.dataloader.DataLoader object at 0x000001829238CAC0>\n"
     ]
    }
   ],
   "source": [
    "print(train_iter)"
   ]
  },
  {
   "cell_type": "markdown",
   "id": "1cc9ab09",
   "metadata": {},
   "source": [
    "Okay, so it appears that I can't print out the value of `train_iter` since it's a dataloader object. This makes sense since this is a generator object. We need to think of more creative ways of outputting this. First let's think about how many units we expect in `train_iter`. There are 60,000 training examples, and we batch them up into batch sizes of 256 -- this means there should be 235 batches (rounded up as the final batch will have less than 256 units, but that's fine)."
   ]
  },
  {
   "cell_type": "code",
   "execution_count": 7,
   "id": "896c0417",
   "metadata": {},
   "outputs": [
    {
     "name": "stdout",
     "output_type": "stream",
     "text": [
      "235\n"
     ]
    }
   ],
   "source": [
    "print(len(train_iter))"
   ]
  },
  {
   "cell_type": "markdown",
   "id": "00c85426",
   "metadata": {},
   "source": [
    "This is as expected! In order to print out an individual example or batch, we need to randomly sample from the generator. For example's sake let's get 3 batches."
   ]
  },
  {
   "cell_type": "code",
   "execution_count": 8,
   "id": "c7af150a",
   "metadata": {
    "scrolled": true
   },
   "outputs": [
    {
     "data": {
      "text/plain": [
       "3"
      ]
     },
     "execution_count": 8,
     "metadata": {},
     "output_type": "execute_result"
    }
   ],
   "source": [
    "sampled_batches = random.sample(list(train_iter), 3)\n",
    "len(sampled_batches) # shows how many batches there are"
   ]
  },
  {
   "cell_type": "code",
   "execution_count": 9,
   "id": "2b5b26e9",
   "metadata": {},
   "outputs": [
    {
     "data": {
      "text/plain": [
       "2"
      ]
     },
     "execution_count": 9,
     "metadata": {},
     "output_type": "execute_result"
    }
   ],
   "source": [
    "len(sampled_batches[0])"
   ]
  },
  {
   "cell_type": "code",
   "execution_count": 10,
   "id": "0ea8904f",
   "metadata": {},
   "outputs": [
    {
     "name": "stdout",
     "output_type": "stream",
     "text": [
      "The number of exampels in the batch of the predictors are:  256\n",
      "The number of exampels in the batch of the labels are:  256\n",
      "They should be equal!\n"
     ]
    }
   ],
   "source": [
    "# For argument's sake let's choose the 3rd batch\n",
    "batch_no = 2\n",
    "\n",
    "# The object is a list of lists -- each batch with two entries\n",
    "# 0 denotes the predictors\n",
    "# 1 denotes the labels\n",
    "predictor = sampled_batches[batch_no][0]\n",
    "label = sampled_batches[batch_no][1]\n",
    "\n",
    "print(\"The number of exampels in the batch of the predictors are: \", len(predictor))\n",
    "print(\"The number of exampels in the batch of the labels are: \", len(label))\n",
    "print(\"They should be equal!\")"
   ]
  },
  {
   "cell_type": "code",
   "execution_count": 11,
   "id": "20cc6893",
   "metadata": {},
   "outputs": [
    {
     "name": "stdout",
     "output_type": "stream",
     "text": [
      "The shape of the predictor torch.Size([1, 28, 28])\n",
      "The shape of the predictor torch.Size([])\n"
     ]
    }
   ],
   "source": [
    "# Let's choose a single example from the batch\n",
    "single_predictor = predictor[100]\n",
    "single_label = label[100]\n",
    "print(\"The shape of the predictor\", single_predictor.shape)\n",
    "print(\"The shape of the predictor\", single_label.shape)"
   ]
  },
  {
   "cell_type": "markdown",
   "id": "1dee2660",
   "metadata": {},
   "source": [
    "You should get the following:\n",
    "* Predictor: `[1,28,28]` -- this means it's a tensor with a single channel and 28x28 (if it was RGB colour it would be `[3,28,28]`)\n",
    "* Label: `[]` -- this means it's a scalar"
   ]
  },
  {
   "cell_type": "code",
   "execution_count": 12,
   "id": "f7828c72",
   "metadata": {},
   "outputs": [
    {
     "data": {
      "image/png": "[encoded data removed]",
      "text/plain": [
       "<Figure size 432x288 with 1 Axes>"
      ]
     },
     "metadata": {
      "needs_background": "light"
     },
     "output_type": "display_data"
    },
    {
     "name": "stdout",
     "output_type": "stream",
     "text": [
      "This shows an image of:  1\n"
     ]
    }
   ],
   "source": [
    "plt.imshow(single_predictor[0]) # print only the one channel of BW\n",
    "plt.show()\n",
    "\n",
    "print(\"This shows an image of: \", int(single_label))"
   ]
  },
  {
   "cell_type": "markdown",
   "id": "9277b6d1",
   "metadata": {},
   "source": [
    "## Network Architecture\n",
    "\n",
    "There are 3 main tools we will use:\n",
    "1. `Conv2d` -- A convolution thru the image matrix (***cross-correlation operation***)\n",
    "2. `AvgPool2d` -- Pooling layer\n",
    "3. `Linear` -- Linear Neural Network (normal) layer (if you are familar with tensorflow this is known as the dense layer)\n",
    "\n",
    "In between we will be using additional tools such as `Sigmoid` for activation functions and `Flatten` to convert our convolutional matrices into linear inputs.\n",
    "\n",
    "### Convolution\n",
    "There are 4 arguments to the `Conv2d`.\n",
    "1. Input:\n",
    "2. Output:\n",
    "3. Kernel Size:\n",
    "4. Stride:\n",
    "\n",
    "https://cs231n.github.io/convolutional-networks/\n",
    "\n",
    "http://d2l.ai/chapter_convolutional-neural-networks/conv-layer.html?highlight=cross%20correlation\n",
    "\n",
    "Note that we ignore the final Guassian activation layer from the original paper following the d2l tutorial"
   ]
  },
  {
   "cell_type": "code",
   "execution_count": 13,
   "id": "e324b1b2",
   "metadata": {},
   "outputs": [],
   "source": [
    "# Initialise LeNet Architecture\n",
    "net = nn.Sequential(nn.Conv2d(1, 6, kernel_size=5, padding=2), nn.Sigmoid(),\n",
    "                    nn.AvgPool2d(kernel_size=2, stride=2),\n",
    "                    nn.Conv2d(6, 16, kernel_size=5), nn.Sigmoid(),\n",
    "                    nn.AvgPool2d(kernel_size=2, stride=2), nn.Flatten(),\n",
    "                    nn.Linear(16 * 5 * 5, 120), nn.Sigmoid(),\n",
    "                    nn.Linear(120, 84), nn.Sigmoid(), nn.Linear(84, 10))"
   ]
  },
  {
   "cell_type": "code",
   "execution_count": 14,
   "id": "cf291ab5",
   "metadata": {
    "scrolled": true
   },
   "outputs": [
    {
     "name": "stdout",
     "output_type": "stream",
     "text": [
      "Conv2d output shape:    \t torch.Size([1, 6, 28, 28])\n",
      "Sigmoid output shape:    \t torch.Size([1, 6, 28, 28])\n",
      "AvgPool2d output shape:    \t torch.Size([1, 6, 14, 14])\n",
      "Conv2d output shape:    \t torch.Size([1, 16, 10, 10])\n",
      "Sigmoid output shape:    \t torch.Size([1, 16, 10, 10])\n",
      "AvgPool2d output shape:    \t torch.Size([1, 16, 5, 5])\n",
      "Flatten output shape:    \t torch.Size([1, 400])\n",
      "Linear output shape:    \t torch.Size([1, 120])\n",
      "Sigmoid output shape:    \t torch.Size([1, 120])\n",
      "Linear output shape:    \t torch.Size([1, 84])\n",
      "Sigmoid output shape:    \t torch.Size([1, 84])\n",
      "Linear output shape:    \t torch.Size([1, 10])\n"
     ]
    }
   ],
   "source": [
    "# Show layers\n",
    "X = torch.rand(size=(1, 1, 28, 28), dtype=torch.float32)\n",
    "for layer in net:\n",
    "    X = layer(X)\n",
    "    print(layer.__class__.__name__, 'output shape:    \\t', X.shape)"
   ]
  },
  {
   "cell_type": "markdown",
   "id": "2ca34341",
   "metadata": {},
   "source": [
    "### A note on `grad`\n",
    "Each tensor will have an option of grad or nograd. By default it is `false`. When evaluating an NN, this is the option we need, since we don't want it to track the history (required for calculating gradients). However, when training, we need to keep this on so that we can do autodiff. "
   ]
  },
  {
   "cell_type": "code",
   "execution_count": 15,
   "id": "0d50ba8c",
   "metadata": {
    "scrolled": false
   },
   "outputs": [
    {
     "data": {
      "text/plain": [
       "False"
      ]
     },
     "execution_count": 15,
     "metadata": {},
     "output_type": "execute_result"
    }
   ],
   "source": [
    "single_predictor.requires_grad"
   ]
  },
  {
   "cell_type": "markdown",
   "id": "2e95d2aa",
   "metadata": {},
   "source": [
    "We need to set initial NN weights -- usually this is using the Xavier uniform distribution."
   ]
  },
  {
   "cell_type": "markdown",
   "id": "b631904b",
   "metadata": {},
   "source": [
    "## Training with a single mini-batch"
   ]
  },
  {
   "cell_type": "code",
   "execution_count": 16,
   "id": "c559635d",
   "metadata": {},
   "outputs": [
    {
     "data": {
      "text/plain": [
       "Sequential(\n",
       "  (0): Conv2d(1, 6, kernel_size=(5, 5), stride=(1, 1), padding=(2, 2))\n",
       "  (1): Sigmoid()\n",
       "  (2): AvgPool2d(kernel_size=2, stride=2, padding=0)\n",
       "  (3): Conv2d(6, 16, kernel_size=(5, 5), stride=(1, 1))\n",
       "  (4): Sigmoid()\n",
       "  (5): AvgPool2d(kernel_size=2, stride=2, padding=0)\n",
       "  (6): Flatten(start_dim=1, end_dim=-1)\n",
       "  (7): Linear(in_features=400, out_features=120, bias=True)\n",
       "  (8): Sigmoid()\n",
       "  (9): Linear(in_features=120, out_features=84, bias=True)\n",
       "  (10): Sigmoid()\n",
       "  (11): Linear(in_features=84, out_features=10, bias=True)\n",
       ")"
      ]
     },
     "execution_count": 16,
     "metadata": {},
     "output_type": "execute_result"
    }
   ],
   "source": [
    "def init_weights(m):\n",
    "    if type(m) == nn.Linear or type(m) == nn.Conv2d:\n",
    "        nn.init.xavier_uniform_(m.weight)\n",
    "\n",
    "net.apply(init_weights) # nb: this takes in a function as an argument"
   ]
  },
  {
   "cell_type": "code",
   "execution_count": 17,
   "id": "c679c2ce",
   "metadata": {},
   "outputs": [],
   "source": [
    "lr = 0.9 # Learning rate\n",
    "optimizer = torch.optim.SGD(net.parameters(), lr=lr) # Using SGD algorithm ot optimise\n",
    "loss = nn.CrossEntropyLoss() # https://pytorch.org/docs/stable/generated/torch.nn.CrossEntropyLoss.html\n",
    "# timer = Timer() \n",
    "num_batches = len(train_iter) "
   ]
  },
  {
   "cell_type": "code",
   "execution_count": 18,
   "id": "acafe86d",
   "metadata": {},
   "outputs": [
    {
     "data": {
      "text/plain": [
       "Sequential(\n",
       "  (0): Conv2d(1, 6, kernel_size=(5, 5), stride=(1, 1), padding=(2, 2))\n",
       "  (1): Sigmoid()\n",
       "  (2): AvgPool2d(kernel_size=2, stride=2, padding=0)\n",
       "  (3): Conv2d(6, 16, kernel_size=(5, 5), stride=(1, 1))\n",
       "  (4): Sigmoid()\n",
       "  (5): AvgPool2d(kernel_size=2, stride=2, padding=0)\n",
       "  (6): Flatten(start_dim=1, end_dim=-1)\n",
       "  (7): Linear(in_features=400, out_features=120, bias=True)\n",
       "  (8): Sigmoid()\n",
       "  (9): Linear(in_features=120, out_features=84, bias=True)\n",
       "  (10): Sigmoid()\n",
       "  (11): Linear(in_features=84, out_features=10, bias=True)\n",
       ")"
      ]
     },
     "execution_count": 18,
     "metadata": {},
     "output_type": "execute_result"
    }
   ],
   "source": [
    "metric = Accumulator(3) # define a 3d accumulator\n",
    "net.train() # This doesn't actually train, but sets the network on training mode"
   ]
  },
  {
   "cell_type": "code",
   "execution_count": 19,
   "id": "2f972573",
   "metadata": {},
   "outputs": [],
   "source": [
    "X, y = next(iter(train_iter)) # Pick one batch"
   ]
  },
  {
   "cell_type": "code",
   "execution_count": 20,
   "id": "288c31b0",
   "metadata": {},
   "outputs": [],
   "source": [
    "optimizer.zero_grad() # before running the forward/backward pass we need to reset the gradient (otherwise it accumulates)\n",
    "y_hat = net(X) # Forward pass on the data to make prediction\n",
    "l = loss(y_hat, y) # calculate the loss \n",
    "l.backward() # back propagate the loss\n",
    "optimizer.step() # step forward in optimisation"
   ]
  },
  {
   "cell_type": "code",
   "execution_count": 21,
   "id": "8c57655d",
   "metadata": {},
   "outputs": [
    {
     "name": "stdout",
     "output_type": "stream",
     "text": [
      "1. The mini-batch loss is: \t\t\t\t tensor(601.5111, grad_fn=<MulBackward0>)\n",
      "2. The number of correct training predictions is: \t 19.0\n",
      "3. The number of total training predictions is: \t 256\n",
      "This means we get a training accuracy of  0.07421875\n",
      "The average loss for each instance is  2.3496527671813965\n"
     ]
    }
   ],
   "source": [
    "metric_1 = l * X.shape[0]\n",
    "metric_2 = accuracy(y_hat, y)\n",
    "metric_3 = X.shape[0] \n",
    "\n",
    "\n",
    "print(\"1. The mini-batch loss is: \\t\\t\\t\\t\", metric_1)\n",
    "print(\"2. The number of correct training predictions is: \\t\", metric_2)\n",
    "print(\"3. The number of total training predictions is: \\t\", metric_3)\n",
    "\n",
    "print(\"This means we get a training accuracy of \", metric_2/metric_3)\n",
    "print(\"The average loss for each instance is \", float(metric_1/metric_3))"
   ]
  },
  {
   "cell_type": "code",
   "execution_count": 22,
   "id": "cb7cd830",
   "metadata": {
    "scrolled": true
   },
   "outputs": [
    {
     "name": "stdout",
     "output_type": "stream",
     "text": [
      "The testing accuracy is:  0.1\n"
     ]
    }
   ],
   "source": [
    "test_accuracy = evaluate_accuracy(net, test_iter)\n",
    "print(\"The testing accuracy is: \", test_accuracy)"
   ]
  },
  {
   "cell_type": "markdown",
   "id": "ffa9e135",
   "metadata": {},
   "source": [
    "As you can see both the training and testing accuracy is horrible, floating at around 10%. This is no better than randomly assigning labels to the examples. However, this makes sense, since we only trained on a single batch."
   ]
  },
  {
   "cell_type": "markdown",
   "id": "b2243740",
   "metadata": {},
   "source": [
    "## Training with more examples"
   ]
  },
  {
   "cell_type": "code",
   "execution_count": 23,
   "id": "60f006c8",
   "metadata": {},
   "outputs": [
    {
     "data": {
      "text/plain": [
       "Sequential(\n",
       "  (0): Conv2d(1, 6, kernel_size=(5, 5), stride=(1, 1), padding=(2, 2))\n",
       "  (1): Sigmoid()\n",
       "  (2): AvgPool2d(kernel_size=2, stride=2, padding=0)\n",
       "  (3): Conv2d(6, 16, kernel_size=(5, 5), stride=(1, 1))\n",
       "  (4): Sigmoid()\n",
       "  (5): AvgPool2d(kernel_size=2, stride=2, padding=0)\n",
       "  (6): Flatten(start_dim=1, end_dim=-1)\n",
       "  (7): Linear(in_features=400, out_features=120, bias=True)\n",
       "  (8): Sigmoid()\n",
       "  (9): Linear(in_features=120, out_features=84, bias=True)\n",
       "  (10): Sigmoid()\n",
       "  (11): Linear(in_features=84, out_features=10, bias=True)\n",
       ")"
      ]
     },
     "execution_count": 23,
     "metadata": {},
     "output_type": "execute_result"
    }
   ],
   "source": [
    "net.apply(init_weights) # let's reset the NN weights"
   ]
  },
  {
   "cell_type": "code",
   "execution_count": 24,
   "id": "70cfbd3d",
   "metadata": {},
   "outputs": [
    {
     "name": "stdout",
     "output_type": "stream",
     "text": [
      "loss 0.261, train acc 0.903, test acc 0.883\n",
      "276.6 sec taken \n"
     ]
    }
   ],
   "source": [
    "timer = Timer() \n",
    "num_epochs = 10\n",
    "# animator = Animator(xlabel='epoch', xlim=[1, num_epochs],\n",
    "#                             legend=['train loss', 'train acc', 'test acc'])\n",
    "\n",
    "train_accuracy = np.array([])\n",
    "test_accuracy = np.array([])\n",
    "epochs = np.arange(num_epochs) + 1\n",
    "\n",
    "for epoch in range(num_epochs):\n",
    "    # Sum of training loss, sum of training accuracy, no. of examples\n",
    "    metric = Accumulator(3) # define a 3d accumulator\n",
    "    net.train() # train over one epoch\n",
    "    for i, (X, y) in enumerate(train_iter): # Loop thru each mini-batch\n",
    "        timer.start()\n",
    "        optimizer.zero_grad() # before running the forward/backward pass we need to reset the gradient (otherwise it accumulates)\n",
    "        y_hat = net(X) # Forward pass on the data to make prediction\n",
    "        l = loss(y_hat, y) # calculate the loss \n",
    "        l.backward() # back propagate the loss\n",
    "        optimizer.step() # step forward in optimisation\n",
    "        with torch.no_grad():\n",
    "            metric.add(l * X.shape[0], accuracy(y_hat, y), X.shape[0]) # mini-batch loss,  # matches, # total examples\n",
    "        timer.stop()\n",
    "        train_l = metric[0] / metric[2] # loss per unit \n",
    "        train_acc = metric[1] / metric[2] # training accuracy\n",
    "        # regularly update animator\n",
    "#         if (i + 1) % (num_batches // 5) == 0 or i == num_batches - 1:\n",
    "#             animator.add(epoch + (i + 1) / num_batches,\n",
    "#                          (train_l, train_acc, None))\n",
    "    test_acc = evaluate_accuracy(net, test_iter)\n",
    "    \n",
    "    train_accuracy = np.append(train_accuracy, train_acc)\n",
    "    test_accuracy = np.append(test_accuracy, test_acc)\n",
    "#     animator.add(epoch + 1, (None, None, test_acc))\n",
    "print(f'loss {train_l:.3f}, train acc {train_acc:.3f}, '\n",
    "      f'test acc {test_acc:.3f}')\n",
    "# print(f'{metric[2] * num_epochs / timer.sum():.1f} examples/sec '\n",
    "#       f'on')\n",
    "print(f'{timer.sum():.1f} sec taken ')"
   ]
  },
  {
   "cell_type": "code",
   "execution_count": 25,
   "id": "34370039",
   "metadata": {},
   "outputs": [
    {
     "data": {
      "image/png": "[encoded data removed]",
      "text/plain": [
       "<Figure size 432x288 with 1 Axes>"
      ]
     },
     "metadata": {
      "needs_background": "light"
     },
     "output_type": "display_data"
    }
   ],
   "source": [
    "plt.plot(epochs, train_accuracy, label = \"Training Accuracy\")\n",
    "plt.plot(epochs, test_accuracy, label = \"Testing Accuracy\")\n",
    "plt.ylim(0, 1)\n",
    "plt.xlabel(\"# Epochs\")\n",
    "plt.ylabel(\"Accuracy\")\n",
    "plt.legend()\n",
    "plt.show()"
   ]
  },
  {
   "cell_type": "markdown",
   "id": "b77cb53b",
   "metadata": {},
   "source": [
    "---"
   ]
  },
  {
   "cell_type": "markdown",
   "id": "945402c0",
   "metadata": {},
   "source": [
    "# HELPER FUNCTIONS\n",
    "Please run the TWO cells below directly after the preamble"
   ]
  },
  {
   "cell_type": "code",
   "execution_count": 2,
   "id": "340c5e7f",
   "metadata": {},
   "outputs": [],
   "source": [
    "class Accumulator:\n",
    "    \"\"\"For accumulating sums over `n` variables.\"\"\"\n",
    "    def __init__(self, n):\n",
    "        self.data = [0.0] * n\n",
    "\n",
    "    def add(self, *args):\n",
    "        self.data = [a + float(b) for a, b in zip(self.data, args)]\n",
    "\n",
    "    def reset(self):\n",
    "        self.data = [0.0] * len(self.data)\n",
    "        \n",
    "    def print(self):\n",
    "        print(self.data)\n",
    "\n",
    "    def __getitem__(self, idx):\n",
    "        return self.data[idx]\n",
    "\n",
    "def accuracy(y_hat, y):\n",
    "    \"\"\"Compute the number of correct predictions.\n",
    "    Defined in :numref:`sec_utils`\"\"\"\n",
    "    if len(y_hat.shape) > 1 and y_hat.shape[1] > 1: # ensure there's more than one example \n",
    "        y_hat = argmax(y_hat, axis=1) # Choose the column corresponding to theb highest y_hat\n",
    "    cmp = astype(y_hat, y.dtype) == y # see if it matches\n",
    "    return float(reduce_sum(astype(cmp, y.dtype))) #check how many matches there are\n",
    "\n",
    "astype = lambda x, *args, **kwargs: x.type(*args, **kwargs)\n",
    "reduce_sum = lambda x, *args, **kwargs: x.sum(*args, **kwargs)\n",
    "argmax = lambda x, *args, **kwargs: x.argmax(*args, **kwargs)\n",
    "\n",
    "def evaluate_accuracy(net, data_iter):  #@save\n",
    "    \"\"\"Compute the accuracy for a model on a dataset using a GPU.\"\"\"\n",
    "    if isinstance(net, nn.Module): # Check if net is a nn.Module (type)\n",
    "        net.eval()  # Set the model to evaluation mode\n",
    "    # No. of correct predictions, no. of predictions\n",
    "    metric = Accumulator(2)\n",
    "\n",
    "    with torch.no_grad():\n",
    "        for X, y in data_iter:\n",
    "            metric.add(accuracy(net(X), y), y.numel())\n",
    "    return metric[0] / metric[1]"
   ]
  },
  {
   "cell_type": "code",
   "execution_count": 3,
   "id": "6cd044a5",
   "metadata": {},
   "outputs": [],
   "source": [
    "class Animator:\n",
    "    \"\"\"For plotting data in animation.\"\"\"\n",
    "    def __init__(self, xlabel=None, ylabel=None, legend=None, xlim=None,\n",
    "                 ylim=None, xscale='linear', yscale='linear',\n",
    "                 fmts=('-', 'm--', 'g-.', 'r:'), nrows=1, ncols=1,\n",
    "                 figsize=(3.5, 2.5)):\n",
    "        \"\"\"Defined in :numref:`sec_utils`\"\"\"\n",
    "        # Incrementally plot multiple lines\n",
    "        if legend is None:\n",
    "            legend = []\n",
    "        use_svg_display()\n",
    "        self.fig, self.axes = plt.subplots(nrows, ncols, figsize=figsize)\n",
    "        if nrows * ncols == 1:\n",
    "            self.axes = [self.axes, ]\n",
    "        # Use a lambda function to capture arguments\n",
    "        self.config_axes = lambda: set_axes(\n",
    "            self.axes[0], xlabel, ylabel, xlim, ylim, xscale, yscale, legend)\n",
    "        self.X, self.Y, self.fmts = None, None, fmts\n",
    "\n",
    "    def add(self, x, y):\n",
    "        # Add multiple data points into the figure\n",
    "        if not hasattr(y, \"__len__\"):\n",
    "            y = [y]\n",
    "        n = len(y)\n",
    "        if not hasattr(x, \"__len__\"):\n",
    "            x = [x] * n\n",
    "        if not self.X:\n",
    "            self.X = [[] for _ in range(n)]\n",
    "        if not self.Y:\n",
    "            self.Y = [[] for _ in range(n)]\n",
    "        for i, (a, b) in enumerate(zip(x, y)):\n",
    "            if a is not None and b is not None:\n",
    "                self.X[i].append(a)\n",
    "                self.Y[i].append(b)\n",
    "        self.axes[0].cla()\n",
    "        for x, y, fmt in zip(self.X, self.Y, self.fmts):\n",
    "            self.axes[0].plot(x, y, fmt)\n",
    "        self.config_axes()\n",
    "        display.display(self.fig)\n",
    "        display.clear_output(wait=True)\n",
    "        \n",
    "class Timer:\n",
    "    \"\"\"Record multiple running times.\"\"\"\n",
    "    def __init__(self):\n",
    "        \"\"\"Defined in :numref:`subsec_normal_distribution_and_squared_loss`\"\"\"\n",
    "        self.times = []\n",
    "        self.start()\n",
    "\n",
    "    def start(self):\n",
    "        \"\"\"Start the timer.\"\"\"\n",
    "        self.tik = time.time()\n",
    "\n",
    "    def stop(self):\n",
    "        \"\"\"Stop the timer and record the time in a list.\"\"\"\n",
    "        self.times.append(time.time() - self.tik)\n",
    "        return self.times[-1]\n",
    "\n",
    "    def avg(self):\n",
    "        \"\"\"Return the average time.\"\"\"\n",
    "        return sum(self.times) / len(self.times)\n",
    "\n",
    "    def sum(self):\n",
    "        \"\"\"Return the sum of time.\"\"\"\n",
    "        return sum(self.times)\n",
    "\n",
    "    def cumsum(self):\n",
    "        \"\"\"Return the accumulated time.\"\"\"\n",
    "        return np.array(self.times).cumsum().tolist()\n",
    "\n",
    "def use_svg_display():\n",
    "    \"\"\"Use the svg format to display a plot in Jupyter.\n",
    "    Defined in :numref:`sec_calculus`\"\"\"\n",
    "    display.set_matplotlib_formats('svg')\n",
    "\n",
    "def set_figsize(figsize=(3.5, 2.5)):\n",
    "    \"\"\"Set the figure size for matplotlib.\n",
    "    Defined in :numref:`sec_calculus`\"\"\"\n",
    "    use_svg_display()\n",
    "    plt.rcParams['figure.figsize'] = figsize\n",
    "\n",
    "def set_axes(axes, xlabel, ylabel, xlim, ylim, xscale, yscale, legend):\n",
    "    \"\"\"Set the axes for matplotlib.\n",
    "    Defined in :numref:`sec_calculus`\"\"\"\n",
    "    axes.set_xlabel(xlabel), axes.set_ylabel(ylabel)\n",
    "    axes.set_xscale(xscale), axes.set_yscale(yscale)\n",
    "    axes.set_xlim(xlim),     axes.set_ylim(ylim)\n",
    "    if legend:\n",
    "        axes.legend(legend)\n",
    "    axes.grid()"
   ]
  },
  {
   "cell_type": "markdown",
   "id": "8b6d1d01",
   "metadata": {},
   "source": [
    "---"
   ]
  },
  {
   "cell_type": "markdown",
   "id": "1ef69932",
   "metadata": {},
   "source": [
    "You may notice that if you try to print the `train_iter` or `test_iter`, you'll get some weird object rather than the data itself. The reason for this is that we have opted to load the data via **generator functions** rather than directly. This means that unless the data is required at this moment, we will not need to store it, thus saving memory space. This method is often used in deep learning as the datasets we work with are often huge and cannot be stored properly in memory."
   ]
  },
  {
   "cell_type": "markdown",
   "id": "e9af31f0",
   "metadata": {},
   "source": [
    "# Convolutional Neural Networks in `PyTorch`\n",
    "\n",
    "In this tutorial, we will be building a Convolutional Neural Network (CNN) from the ground up using the `Python` library `PyTorch`. There are two main competing libraries when it comes to implementing neural networks in `Python`:\n",
    " * `tensorflow`: written with productionisation in mind\n",
    " * `pytorch`: written with experimentation and development of novel methods in mind\n",
    "\n",
    "For basic implementations of neural networks, most people use the package `keras` as a front-end to `tensorflow`. This allows the developer to build simple architectures with easy. `pytorch` does not come with a similar front-end, but its complexity also allows a huge level of flexibility\n",
    "\n",
    "## Convolutional Neural Networks\n",
    "CNNs are neural network architectures which facilitates the processing of image data using a technique called a convolution (or a window function). The very first CNN was pioneered by Yann LeCun -- often known as one of the founding fathers of neural networks -- in 1998 [here](https://www.researchgate.net/publication/2985446_Gradient-Based_Learning_Applied_to_Document_Recognition).\n",
    "\n",
    "CNNs have to contend with the particularly challenging structure of image data. For simplicity sake, we will limite ourselves to a 28x28 black and white image. With 28x28 pixels, we have a total of 784 pixels with some sense of local 2D structure. Each pixel has a single channel which represents the lightness (or darkness) of that particular point.\n",
    "\n",
    "**NOTE** This tutorial is heavily dependent on the classes defined in [d2l](https://github.com/d2l-ai/d2l-en/blob/master/d2l/torch.py), which have been forked for convenience"
   ]
  }
 ],
 "metadata": {
  "kernelspec": {
   "display_name": "cnn-tute",
   "language": "python",
   "name": "cnn-tute"
  },
  "language_info": {
   "codemirror_mode": {
    "name": "ipython",
    "version": 3
   },
   "file_extension": ".py",
   "mimetype": "text/x-python",
   "name": "python",
   "nbconvert_exporter": "python",
   "pygments_lexer": "ipython3",
   "version": "3.9.7"
  }
 },
 "nbformat": 4,
 "nbformat_minor": 5
}
