{
 "cells": [
  {
   "cell_type": "markdown",
   "id": "4d975d00",
   "metadata": {},
   "source": [
    "# Convolutional Neural Networks for Image Recognition\n",
    "\n",
    "<font color='red'>This is the dev branch of the tutorial. Red indicates parts which need to be updated.</font>\n",
    "\n",
    "### Credits\n",
    "This tutorial was heavily borrowed from the [d2l.ia](http://d2l.ai/). Major changes made include:\n",
    "* Simplification and adaptation to cpu-only implementation\n",
    "* Comments and descriptions of the functions\n",
    "\n",
    "Note the sample code in the d2l.ia [repo](https://github.com/d2l-ai/d2l-en) is subject to a modified [MIT License](https://en.wikipedia.org/wiki/MIT_License). See the source [github repo](https://github.com/bbpi2/cnn-pytorch-tutorial) for the licensing of this tutorial.\n",
    "\n",
    "---"
   ]
  },
  {
   "cell_type": "markdown",
   "id": "2e17c440-010f-4191-ad83-3491fe6673d1",
   "metadata": {},
   "source": [
    "## 1. Introduction\n",
    "\n",
    "In this tutorial, we will be building a Convolutional Neural Network (CNN) as a model to classify images. Pre-requisites:\n",
    "* Basic knowledge of Python \\& Jupyter Notebooks. If you have not used Python before, please refer to the <font color='red'>Primer</font>.\n",
    "* Basic knowledge of CNNs from either the previous presentation or otherwise. For some references, please refer to this [excellent course by Stanford Unviersity](https://cs231n.github.io/convolutional-networks/).\n",
    "\n",
    "### 1.1 PyTorch\n",
    "<font color='red'>Need to add primer for why we use libraries</font>.\n",
    "\n",
    "There are many Python libraries which facilitate Deep Learning and Neural Networks. Currently the two most popular are [TensorFlow](https://www.tensorflow.org/) (owned by Google) and [PyTorch](https://pytorch.org/) (owned by Facebook). Both are open-sourced, which means the code is available for all to see and make improvements upon. TensorFlow has a frontend application called [Keras](https://keras.io/) which makes creating a neural network in TensorFlow a little easier at the expense of some flexibility. For pedagogical reason, this tutorial will focus on using PyTorch. After gaining some familiarity with PyTorch, learning TensorFlow with Keras should be a simpler exercise.\n",
    "\n",
    "### 1.2 Key Libraries\n",
    "Here are the key libraries we will be using:\n",
    "\n",
    "| Library | Description |\n",
    "| --- | --- |\n",
    "| `torch` | This is the core `PyTorch` library doing most of the heavy lifting |\n",
    "| `torchvision` | This is how we will extract the data (if needed), and apply some cleaning to images |\n",
    "| `random` | This library provides random number generators. This is important if we want to sample images from our dataset | \n",
    "| `matplotlib.pyplot` | This is a very popular plotting library |\n",
    "| `time` | This has functions which allows us to keep track of how long the code takes to run |\n",
    "| `IPython` | This libraries allows us to access some of the options of these notebooks |\n",
    "| `numpy` | This is a very popular data manipulation library |\n",
    "\n",
    "The follow code imports the libraries into our current environment."
   ]
  },
  {
   "cell_type": "code",
   "execution_count": 1,
   "id": "d5ff1d19",
   "metadata": {},
   "outputs": [],
   "source": [
    "import torch \n",
    "import torchvision\n",
    "from torch import nn \n",
    "from torchvision import transforms\n",
    "from torch.utils import data\n",
    "import random\n",
    "import matplotlib.pyplot as plt\n",
    "import time\n",
    "from IPython import display\n",
    "import numpy as np\n",
    "\n",
    "random.seed(2021) # We set a seed to ensure our samples will be the same every time we run the code."
   ]
  },
  {
   "cell_type": "code",
   "execution_count": 10,
   "id": "ffbbfab8",
   "metadata": {},
   "outputs": [],
   "source": [
    "# from importlib import reload\n",
    "# helper = reload(helper)\n",
    "# from torchvision import datasets"
   ]
  },
  {
   "cell_type": "markdown",
   "id": "79e71401",
   "metadata": {},
   "source": [
    "# <font color='red'>STOP!!!!!!!!!!!! Run the two helper function cells at the bottom before proceeding</font>"
   ]
  },
  {
   "cell_type": "markdown",
   "id": "fb234b3f",
   "metadata": {},
   "source": [
    "## 2. Data Science Pipeline\n",
    "Before we jump into implementing the fancy neural networks, it is important for us to understand the data science process. Neural networks are but a tool that form part of an overall exercise of understanding and analysing data. The overarching goal should be to draw novel insights from data (often about the real world), and them subsequently making inferences (decisions) about them. There is no clear concensus about what the analysis process should really be like, at its crux, here are some key elements:\n",
    "\n",
    "1. Identify your problem (what exactly are you trying to achieve?)\n",
    "2. Obtain your data (what is the raw resource we have to work with?)\n",
    "3. Explore your data (often, we're not the ones who have collected it, so we need to make sure to understand it)\n",
    "4. Prepare/Clean/Wrangle your data (this involves many many things, from dealing with missingness, to standardising)\n",
    "5. Model your data (this is where neural networks can come in)\n",
    "6. Evaluate your models (how good are your predictions? Is it biased? Can we do better? How much would improvements cost?)\n",
    "7. Deploy your model (this is a whole other rabbit hole that we will only touch upon).\n",
    "\n",
    "### 2.1 Identify Your Problem\n",
    "For the purpose of this tutorial, let's consider a hypothetical. Your boss comes up to you and tells you that you will be given lots and lots of black and white pictures of clothing. Your job is to identify what type of clothing each image pertains to. Of course, you can just look at the image, and make that decision. But the problem with this approach is that it is not **scalable**. It's fine for maybe 100 or 1,000 images, but what if you had 1,000,000? What if you needed to sort through all 1 million in a day? I'm sure after 10,000 you'd already be tired and your decision making won't be as sharp as the first 10k, so you lose even a bit of consistency. This is the perfect problem for machine learning because it is:\n",
    "* Scalable -- once we have a *good enough* model, we can just run it over however many examples our heart desires (limited only by computational resources).\n",
    "* Consistent -- in the long term, the data-driven decisions of the algorithm will be more consistent than a group of humans (or even one very tired human)\n",
    "\n",
    "### 2.2 Obtain Your Data\n",
    "Lucky for you, your boss mentioned that previously they hired some poor soul who managed to sort through 70,000 of these images already. For example, the following image is a boot:\n",
    "\n",
    "![Boot](./images/boot.png)\n",
    "\n",
    "You do a bit of data exploration and you find the following facts:\n",
    "* There are 70,000 labelled images.\n",
    "* Each image is an item of clothing.\n",
    "* Each image is a 28x28 sized image (784 pixels in total).\n",
    "* Each pixel is black and white, and has a value between 0 and 255 indicating the brightness of the pixel\n",
    "* There are a total of 10 types of items of clothing.\n",
    "\n",
    "| Label | Type of Clothing |\n",
    "| --- | --- |\n",
    "| 0 | T-shirt/top |\n",
    "| 1 | Trouser |\n",
    "| 2 | Pullover |\n",
    "| 3 | Dress |\n",
    "| 4 | Coat | \n",
    "| 5 | Sandal |\n",
    "| 6 | Shirt |\n",
    "| 7 | Sneaker |\n",
    "| 8 | Bag |\n",
    "| 9 | Ankle Boot |\n",
    "\n",
    "In fact, the dataset we are working with is called the [Fashion MNIST](https://www.kaggle.com/zalando-research/fashionmnist). Below we will define a function to extract the data in a particular way. There is no need to fully understand what it's doing, only what inputs and outputs are associated with this function.\n",
    "\n",
    "**Input:**\n",
    "* `batch_size` - the number of examples (images) we run for each mini-batch (we will come back to this later)\n",
    "    * If you are running this on mybinder, set `batch_size = 1024` or higher\n",
    "    * If you are running this on your own machine, set `batch_size = 256` or higher\n",
    "* `n_workers` - how many computer cores we want to employ for reading the data \n",
    "    * If you are running this on mybinder, set `n_workers = 0`\n",
    "    * If you are running this on your own machine with CPU only, set `n_worker = 4`\n",
    "    * If you are running this on your own machine with GPU also, set `n_worker = 4n`, where `n` is the number of cores in your GPU (eg. if `n=4` then `n_workers=16`)\n",
    "\n",
    "*If you are running this on a GPU, there is a post-script on how to do this. We recommend running it on CPU first then trying GPU as a challenge.*\n",
    "\n",
    "**Output:**\n",
    "* `train_iter` - this is a train set with 60,000 units\n",
    "* `test_iter` - this is a test set with 10,000 units\n",
    "\n",
    "*We will come back to the idea of train/test split later on.*"
   ]
  },
  {
   "cell_type": "code",
   "execution_count": 4,
   "id": "0a240c6f-14e6-4efd-852b-b29a0acbde17",
   "metadata": {},
   "outputs": [],
   "source": [
    "def load_data_fashion_mnist(batch_size, n_workers=0):\n",
    "    \"\"\"Download the Fashion-MNIST dataset and then load it into memory.\"\"\"\n",
    "    trans = [transforms.ToTensor()]\n",
    "    trans = transforms.Compose(trans)\n",
    "    mnist_train = torchvision.datasets.FashionMNIST(root=\"./data\",\n",
    "                                                    train=True,\n",
    "                                                    transform=trans,\n",
    "                                                    download=True)\n",
    "    mnist_test = torchvision.datasets.FashionMNIST(root=\"./data\",\n",
    "                                                   train=False,\n",
    "                                                   transform=trans,\n",
    "                                                   download=True)\n",
    "    return (data.DataLoader(mnist_train, batch_size, shuffle=True,\n",
    "                            num_workers=n_workers),\n",
    "            data.DataLoader(mnist_test, batch_size, shuffle=False,\n",
    "                            num_workers=n_workers))"
   ]
  },
  {
   "cell_type": "code",
   "execution_count": 20,
   "id": "7692241d-8342-4782-a762-a2a786633c12",
   "metadata": {},
   "outputs": [],
   "source": [
    "batch_size = 256\n",
    "train_iter, test_iter = load_data_fashion_mnist(batch_size=batch_size) # n=60000"
   ]
  },
  {
   "cell_type": "markdown",
   "id": "eee74f9b-f2b5-4580-93b1-a1d5f36a8d3d",
   "metadata": {},
   "source": [
    "At this point, we will have two datasets: `train_iter` and `test_iter` which total 70,000 labelled images. If you are familiar with Python, you may want to try to have a look at a single example from these datasets. This can be done with the `print()` function."
   ]
  },
  {
   "cell_type": "code",
   "execution_count": 6,
   "id": "9f444d96-1b11-4595-b464-56b174efff0a",
   "metadata": {},
   "outputs": [
    {
     "name": "stdout",
     "output_type": "stream",
     "text": [
      "<torch.utils.data.dataloader.DataLoader object at 0x000001AA85D42CA0>\n"
     ]
    }
   ],
   "source": [
    "print(train_iter)"
   ]
  },
  {
   "cell_type": "markdown",
   "id": "5e09e6d2-321b-4cca-b9f6-c93889ca9b53",
   "metadata": {},
   "source": [
    "Hmm this is weird, why does it not show the dataset? Maybe if we try to extract a single example?"
   ]
  },
  {
   "cell_type": "code",
   "execution_count": 7,
   "id": "9bae866e-ba62-4b30-b98d-7ea5acee0fdb",
   "metadata": {},
   "outputs": [
    {
     "ename": "TypeError",
     "evalue": "'DataLoader' object is not subscriptable",
     "output_type": "error",
     "traceback": [
      "\u001b[1;31m---------------------------------------------------------------------------\u001b[0m",
      "\u001b[1;31mTypeError\u001b[0m                                 Traceback (most recent call last)",
      "\u001b[1;32m~\\AppData\\Local\\Temp/ipykernel_9956/1295936104.py\u001b[0m in \u001b[0;36m<module>\u001b[1;34m\u001b[0m\n\u001b[1;32m----> 1\u001b[1;33m \u001b[0mprint\u001b[0m\u001b[1;33m(\u001b[0m\u001b[0mtrain_iter\u001b[0m\u001b[1;33m[\u001b[0m\u001b[1;36m0\u001b[0m\u001b[1;33m]\u001b[0m\u001b[1;33m)\u001b[0m\u001b[1;33m\u001b[0m\u001b[1;33m\u001b[0m\u001b[0m\n\u001b[0m",
      "\u001b[1;31mTypeError\u001b[0m: 'DataLoader' object is not subscriptable"
     ]
    }
   ],
   "source": [
    "print(train_iter[0])"
   ]
  },
  {
   "cell_type": "markdown",
   "id": "84ef94e2-8975-4ca8-8c4c-d013276ddb3a",
   "metadata": {},
   "source": [
    "Error! That's strange indeed. Why is this the case? The answer is quite complicated. If you are interested, scroll down to the appendix to find out more. For now, just know that this is the way to extract a single example."
   ]
  },
  {
   "cell_type": "code",
   "execution_count": 8,
   "id": "84a8236d-c432-4b5e-8772-7ba819a08997",
   "metadata": {},
   "outputs": [
    {
     "name": "stdout",
     "output_type": "stream",
     "text": [
      "The number of batches we have extracted are: 3\n",
      "The number of examples in the batch we selected are: 1024  and  1024 . Note these two values should be equal.\n",
      "The shape of the predictor torch.Size([1, 28, 28])\n",
      "The shape of the label torch.Size([])\n"
     ]
    }
   ],
   "source": [
    "# First we extract a few random batches (say 3), each of which will have up to your set batch_size (eg. 1024 for mybinder)\n",
    "sampled_batches = random.sample(list(train_iter), 3)\n",
    "print(\"The number of batches we have extracted are:\", len(sampled_batches))\n",
    "\n",
    "# Second we select a single batch to look at, let's say the 3rd one\n",
    "batch_no = 2\n",
    "## 0 denotes the predictors\n",
    "## 1 denotes the labels\n",
    "predictor = sampled_batches[batch_no][0]\n",
    "label = sampled_batches[batch_no][1]\n",
    "print(\"The number of examples in the batch we selected are:\" , len(predictor), \" and \", len(label), \". Note these two values should be equal.\")\n",
    "\n",
    "# Third, we select a single example in the batch, let's say the 100th one\n",
    "example_no = 99\n",
    "single_predictor = predictor[example_no]\n",
    "single_label = label[example_no]\n",
    "print(\"The shape of the predictor\", single_predictor.shape)\n",
    "print(\"The shape of the label\", single_label.shape)"
   ]
  },
  {
   "cell_type": "markdown",
   "id": "cbd032c9-432d-40e9-a449-d8d6b4a85365",
   "metadata": {},
   "source": [
    "Let's go into the last two lines in a bit of detail. \n",
    "\n",
    "The predictor has the shape `[1, 28, 28]`. The first number indicates the channel. Since we are dealing with black and white, we only really need 1. For colour, this should be 3 (RGB). The 2nd and 3rd number are the width and the height of the image.\n",
    "\n",
    "The label has the shape `[]`, which means it is just a number.\n",
    "\n",
    "Now finally, we can print the predictor (example) and the label:"
   ]
  },
  {
   "cell_type": "code",
   "execution_count": 9,
   "id": "90c4cf48-ee20-46c2-9ee1-cb9f8a4c4d03",
   "metadata": {},
   "outputs": [
    {
     "data": {
      "image/png": "[encoded data removed]",
      "text/plain": [
       "<Figure size 432x288 with 1 Axes>"
      ]
     },
     "metadata": {
      "needs_background": "light"
     },
     "output_type": "display_data"
    },
    {
     "name": "stdout",
     "output_type": "stream",
     "text": [
      "This shows an image of:  1\n"
     ]
    }
   ],
   "source": [
    "plt.imshow(single_predictor[0]) # print only the one channel of BW\n",
    "plt.show()\n",
    "\n",
    "print(\"This shows an image of: \", int(single_label))"
   ]
  },
  {
   "cell_type": "markdown",
   "id": "961b2247-1f5b-451d-a97e-419cabad3425",
   "metadata": {},
   "source": [
    "### 2.3 Explore Your Data\n",
    "The main thing we will be doing in this section is looking at the class distribution of the examples. That is, how spread out is each type of clothing? Is it representative? etc. We will not be looking at the code in detail, so we have written a function to do this exploration for us."
   ]
  },
  {
   "cell_type": "code",
   "execution_count": 10,
   "id": "44c4e2e6-6d7e-4af5-b8c2-98bc0c87661a",
   "metadata": {},
   "outputs": [
    {
     "name": "stdout",
     "output_type": "stream",
     "text": [
      "Train Data:\n",
      "Class 0 has 6000 images\n",
      "Class 1 has 6000 images\n",
      "Class 2 has 6000 images\n",
      "Class 3 has 6000 images\n",
      "Class 4 has 6000 images\n",
      "Class 5 has 6000 images\n",
      "Class 6 has 6000 images\n",
      "Class 7 has 6000 images\n",
      "Class 8 has 6000 images\n",
      "Class 9 has 6000 images\n",
      "Test Data\n",
      "Class 0 has 1000 images\n",
      "Class 1 has 1000 images\n",
      "Class 2 has 1000 images\n",
      "Class 3 has 1000 images\n",
      "Class 4 has 1000 images\n",
      "Class 5 has 1000 images\n",
      "Class 6 has 1000 images\n",
      "Class 7 has 1000 images\n",
      "Class 8 has 1000 images\n",
      "Class 9 has 1000 images\n"
     ]
    }
   ],
   "source": [
    "def data_explore(data_iter):\n",
    "    class_count = Accumulator(10)\n",
    "    for i, (X, y) in enumerate(data_iter):\n",
    "        current_counter = torch.bincount(y)\n",
    "        class_count.add(current_counter[0], current_counter[1], current_counter[2], current_counter[3], current_counter[4],\n",
    "                  current_counter[5], current_counter[6], current_counter[7], current_counter[8], current_counter[9])\n",
    "    for i in range(10):\n",
    "        print(\"Class\", i, \"has\", int(class_count.__getitem__(i)), \"images\")\n",
    "        \n",
    "    return\n",
    "        \n",
    "print(\"Train Data:\")\n",
    "data_explore(train_iter)\n",
    "print(\"Test Data\")\n",
    "data_explore(test_iter)"
   ]
  },
  {
   "cell_type": "markdown",
   "id": "ac6351d4-a037-42ec-aec8-c4f875db2a23",
   "metadata": {},
   "source": [
    "The class distribution is perfectly balanced as you would expect from a nice and clean dataset!"
   ]
  },
  {
   "cell_type": "markdown",
   "id": "c80b76c6-95b3-4918-b8ab-fdc3a4c4036f",
   "metadata": {},
   "source": [
    "### 2.4 Prepare Your Data\n",
    "This was something we have previously alluded to, but we have 70,000 labelled examples. Perfect! Do we throw them all into the training/fitting process of the model?\n",
    "\n",
    "The answer is **NO**. Why is that though? Doesn't more data = better model?\n",
    "\n",
    "![yesbutno](./images/yesbutno.jpg)\n",
    "\n",
    "The reason lies in a concept known as **overfitting**. Remember, our goal is to make sure the model works well on hiterto unseen data (ie. unlabelled data). If we just throw all the data we have into the train process, then we won't have access to an independent dataset to evaluate the model. Later on, we will see how the test data can be used to assess overfitting. For now, just remember that it is vital that we have an (representative) subset of the labelled data set aside for evaluation. For the purposes of this example, 60,000 images will be used to train and 10,000 images will be used to test:\n",
    "* `Train` -- this is the data we use to fit the model (n=60,000)\n",
    "* `Validate` -- we will not be using this today to tune hyper-parameters\n",
    "* `Test` -- this is the data we use to determine the model performance (n=10,000)\n",
    "\n",
    "#### Aside: Validate \\& Hyperparameters\n",
    "**Hyperparameters** are parameters of the model that the user has to provide (as opposed to parameters the model finds such as the weights of a neural network). Examples of this might be the learning rate of the gradient descent method (denoted by `lr` later). Since these parameters have to be provided by the user, we need to decide on its value somehow. In the absence of any external information (eg. someone told us a particular learning rate is really good), we use the validate set (independent of train and test) to set these. In the example of learning rate, we may try the learning rate in increments of `0.1` between `0.1` and `0.9`. Then we choose the hyperparameter which gives us the best performance when assessed against the validate set.\n",
    "\n",
    "*For the purpose of this tutorial, we will not do any hyperparameter tuning, so a validate set was not used.*"
   ]
  },
  {
   "cell_type": "markdown",
   "id": "aa775ce4-b553-43a8-8572-df13187e2bbe",
   "metadata": {},
   "source": [
    "### 2.5 Model Your Data\n",
    "Let's review what we have done so far:\n",
    "\n",
    "|Pipeline | Our Problem |\n",
    "|---| --- |\n",
    "|1. Identify Your Problem | Classify images of items of clothing |\n",
    "|2. Obtain Your Data | 70,000 labelled images (10 different types) of clothes |\n",
    "|3. Explore Your Data | Class distribution perfectly equal across classes |\n",
    "|4. Preare Your Data | Split 70,000 into 60,000 train and 10,000 test set |\n",
    "\n",
    "Note that we didn't have to do too much cleaning because the data we have is close to *perfect* in many regards. For further details about intricacies of this process, this excellent [textbook](https://www.oreilly.com/library/view/hands-on-machine-learning/9781492032632/) provides all the nitty gritty detail. \n",
    "\n",
    "Now comes the exciting part! Building the neural network from scratch.\n",
    "\n",
    "The architecture of the neural network we are going to build was first formulated by Yann LeCun (one of the founding fathers of deep learning) as he was working in Bell Laboratory. Here is the [original paper](https://www.researchgate.net/publication/2985446_Gradient-Based_Learning_Applied_to_Document_Recognition) if you are interested. In this instance, we will be building a slightly adapted version that the d2l.ai textbook outlines in [this chapter](http://d2l.ai/chapter_convolutional-neural-networks/lenet.html). (The key difference is that we will be dropping the Gaussian activation function in the final layer).\n",
    "\n",
    "![lenet](./images/lenet.svg)\n",
    "\n",
    "**Figure 1:** The architecture of LeNet. ([source](http://d2l.ai/chapter_convolutional-neural-networks/lenet.html))\n",
    "\n",
    "![lenetsimple](./images/lenet-vert.svg)\n",
    "\n",
    "**Figure 2:** Compact version of the architecture of LeNet. ([source](http://d2l.ai/chapter_convolutional-neural-networks/lenet.html))\n",
    "\n",
    "Okay, so that's a lot. But the building blocks are not complex. There are three main ones. Parenthesis indicates the relevant PyTorch function:\n",
    "1. Convolution Layer (`Conv2d`)\n",
    "2. Pooling Layer (`AvgPool2d`)\n",
    "3. Dense/Linear Layer (`Linear`)\n",
    "\n",
    "#### 2.5.1 Convolution Layers\n",
    "Let's take the first transition (from 28x28 image to the 6@28x28 C1 feature map in the Figure 1) as our example. Figure 2 provides us with 3 bits of vital information:\n",
    "* $5 \\times 5$ means that our convolution window (aka kernel size) is going to be 5\n",
    "* pad 2 means that we will 'pad' our image with two squares of 0s (since it's 28x28, this will make it a 30x30 image)\n",
    "* conv(6) means that we are expecting 6 output layers (that is we pass the image through 6 filters)\n",
    "\n",
    "An additional piece of information:\n",
    "* We are starting with a black and white image, so we are expecting a single input layer\n",
    "\n",
    "Putting this together, the code becomes: `nn.Conv2d(in_channels = 1, out_channels = 6, kernel_size=5, padding=2)`.\n",
    "\n",
    "What does this actually look like though? The animation from the Stanford University [course](https://cs231n.github.io/convolutional-networks/) gives an excellent intuitive picture as to what is happening.\n",
    "\n",
    "Question: What is going to be the output dimension of our image?\n",
    "\n",
    "<font color='red'>Examples! Maybe discuss [cross-correlation](http://d2l.ai/chapter_convolutional-neural-networks/conv-layer.html?highlight=cross%20correlation) also</font>.\n",
    "\n",
    "#### 2.5.2 Pooling Layers\n",
    "There are two pieces of information from Figure 2:\n",
    "* $2 \\times 2$ AvgPool means we take $2 \\times 2$ values of the image and we average them\n",
    "* stride 2 means we 'skip' two steps with each window\n",
    "\n",
    "Putting this together, the code becomes: `nn.AvgPool2d(kernel_size=2, stride=2)`.\n",
    "<font color='red'>Examples!</font>.\n",
    "\n",
    "\n",
    "#### 2.5.3 Linear/Dense Layer\n",
    "Let's look at the FC(120) layer in Figure 2. The input is 16 layers of 5x5 images. How many pixels is that? $16 \\times 5 \\times 5 = 400$. We squish each pixel into a fully connected layer with 120 as the output.\n",
    "\n",
    "Putting this together, the code becomes: `nn.Linear(in_features = 16 * 5 * 5, out_features = 120)`.\n",
    "\n",
    "<font color='red'>Examples!</font>.\n",
    "\n",
    "\n",
    "#### 2.5.4 Tying Loose Ends\n",
    "Between each layer, we will use a sigmoid function `nn.Sigmoid()` as our activation function. Note we do not need to put activation functions after pooling layers, only after convolutional and linear layers. \n",
    "\n",
    "To convert from a 2D image representation to a 1D linear representation, we use the `nn.Flatten()` function. Try filling out the `?` below according to the architecture."
   ]
  },
  {
   "cell_type": "code",
   "execution_count": 21,
   "id": "28461ec8-18dc-4eb4-bc8d-646f94606ce3",
   "metadata": {},
   "outputs": [
    {
     "ename": "SyntaxError",
     "evalue": "invalid syntax (Temp/ipykernel_9956/3250750114.py, line 4)",
     "output_type": "error",
     "traceback": [
      "\u001b[1;36m  File \u001b[1;32m\"C:\\Users\\Brian\\AppData\\Local\\Temp/ipykernel_9956/3250750114.py\"\u001b[1;36m, line \u001b[1;32m4\u001b[0m\n\u001b[1;33m    ?, ?,\u001b[0m\n\u001b[1;37m    ^\u001b[0m\n\u001b[1;31mSyntaxError\u001b[0m\u001b[1;31m:\u001b[0m invalid syntax\n"
     ]
    }
   ],
   "source": [
    "# Initialise LeNet Architecture\n",
    "net = nn.Sequential(nn.Conv2d(1, 6, kernel_size=5, padding=2), nn.Sigmoid(),\n",
    "                    nn.AvgPool2d(kernel_size=2, stride=2),\n",
    "                    ?, ?,\n",
    "                    ?, nn.Flatten(),\n",
    "                    nn.Linear(16 * 5 * 5, 120), ?,\n",
    "                    ?, ?, \n",
    "                    nn.Linear(84, 10))"
   ]
  },
  {
   "cell_type": "code",
   "execution_count": 22,
   "id": "e324b1b2",
   "metadata": {},
   "outputs": [],
   "source": [
    "# Initialise LeNet Architecture (ans)\n",
    "net = nn.Sequential(nn.Conv2d(1, 6, kernel_size=5, padding=2), nn.Sigmoid(),\n",
    "                    nn.AvgPool2d(kernel_size=2, stride=2),\n",
    "                    nn.Conv2d(6, 16, kernel_size=5), nn.Sigmoid(),\n",
    "                    nn.AvgPool2d(kernel_size=2, stride=2), nn.Flatten(),\n",
    "                    nn.Linear(16 * 5 * 5, 120), nn.Sigmoid(),\n",
    "                    nn.Linear(120, 84), nn.Sigmoid(), \n",
    "                    nn.Linear(84, 10))"
   ]
  },
  {
   "cell_type": "code",
   "execution_count": 23,
   "id": "cf291ab5",
   "metadata": {
    "scrolled": true
   },
   "outputs": [
    {
     "name": "stdout",
     "output_type": "stream",
     "text": [
      "Conv2d output shape:    \t torch.Size([1, 6, 28, 28])\n",
      "Sigmoid output shape:    \t torch.Size([1, 6, 28, 28])\n",
      "AvgPool2d output shape:    \t torch.Size([1, 6, 14, 14])\n",
      "Conv2d output shape:    \t torch.Size([1, 16, 10, 10])\n",
      "Sigmoid output shape:    \t torch.Size([1, 16, 10, 10])\n",
      "AvgPool2d output shape:    \t torch.Size([1, 16, 5, 5])\n",
      "Flatten output shape:    \t torch.Size([1, 400])\n",
      "Linear output shape:    \t torch.Size([1, 120])\n",
      "Sigmoid output shape:    \t torch.Size([1, 120])\n",
      "Linear output shape:    \t torch.Size([1, 84])\n",
      "Sigmoid output shape:    \t torch.Size([1, 84])\n",
      "Linear output shape:    \t torch.Size([1, 10])\n"
     ]
    }
   ],
   "source": [
    "# Show layers\n",
    "X = torch.rand(size=(1, 1, 28, 28), dtype=torch.float32)\n",
    "for layer in net:\n",
    "    X = layer(X)\n",
    "    print(layer.__class__.__name__, 'output shape:    \\t', X.shape)"
   ]
  },
  {
   "cell_type": "markdown",
   "id": "b631904b",
   "metadata": {},
   "source": [
    "### 2.5.5 Training with a single mini-batch\n",
    "Before we start with the training process, all the weights in our neural network must be initialised with a particular value. A sensible starting point is using the [Xavier Uniform](https://pytorch.org/docs/stable/nn.init.html#) distribution as outlined in [this paper](https://proceedings.mlr.press/v9/glorot10a/glorot10a.pdf). No further justification will be given in this tutorial, although initial weight values of neural networks can spark fascinating discussions in and of themselves."
   ]
  },
  {
   "cell_type": "code",
   "execution_count": 24,
   "id": "c559635d",
   "metadata": {},
   "outputs": [
    {
     "data": {
      "text/plain": [
       "Sequential(\n",
       "  (0): Conv2d(1, 6, kernel_size=(5, 5), stride=(1, 1), padding=(2, 2))\n",
       "  (1): Sigmoid()\n",
       "  (2): AvgPool2d(kernel_size=2, stride=2, padding=0)\n",
       "  (3): Conv2d(6, 16, kernel_size=(5, 5), stride=(1, 1))\n",
       "  (4): Sigmoid()\n",
       "  (5): AvgPool2d(kernel_size=2, stride=2, padding=0)\n",
       "  (6): Flatten(start_dim=1, end_dim=-1)\n",
       "  (7): Linear(in_features=400, out_features=120, bias=True)\n",
       "  (8): Sigmoid()\n",
       "  (9): Linear(in_features=120, out_features=84, bias=True)\n",
       "  (10): Sigmoid()\n",
       "  (11): Linear(in_features=84, out_features=10, bias=True)\n",
       ")"
      ]
     },
     "execution_count": 24,
     "metadata": {},
     "output_type": "execute_result"
    }
   ],
   "source": [
    "def init_weights(m):\n",
    "    if type(m) == nn.Linear or type(m) == nn.Conv2d: # We will only set the weights from linear and Conv2d layers, since pooling layers do not require this\n",
    "        nn.init.xavier_uniform_(m.weight)\n",
    "\n",
    "net.apply(init_weights) # nb: this takes in a function as an argument"
   ]
  },
  {
   "cell_type": "markdown",
   "id": "ac63dcda-8765-4f29-831a-31f2996bd23c",
   "metadata": {},
   "source": [
    "Three key decisions need to be made by the user (hyperparamters in one sense):\n",
    "* Learning Rate - How quickly should our algorithm converge? Too quick and we might *miss* the optimal model; Too slow and it will take a long time to run\n",
    "* Optimiser - what algorithm do we use to find the optimal weights? For this we will use [Stochastic Gradient Descent (SGD)](https://pytorch.org/docs/stable/generated/torch.optim.SGD.html#torch.optim.SGD)\n",
    "* Loss Function - how do we measure the 'correctness' of predictions? For this we will use the [Cross Entropy Loss](https://pytorch.org/docs/stable/generated/torch.nn.CrossEntropyLoss.html)\n",
    "\n",
    "*No further justification will be provided for these, but one should note this is not the only configuration, nor might this be the best configuration. For example the ADAM optimiser is often preferred over SGD.*"
   ]
  },
  {
   "cell_type": "code",
   "execution_count": 25,
   "id": "1ac42030-22cf-447e-9cb7-8ec96caa4754",
   "metadata": {},
   "outputs": [],
   "source": [
    "lr = 0.9 # Learning rate\n",
    "optimizer = torch.optim.SGD(net.parameters(), lr=lr) # Using SGD algorithm ot optimise\n",
    "loss = nn.CrossEntropyLoss() # https://pytorch.org/docs/stable/generated/torch.nn.CrossEntropyLoss.html"
   ]
  },
  {
   "cell_type": "markdown",
   "id": "466a51d8-d9ca-4951-b31f-65dcae0a2a0b",
   "metadata": {},
   "source": [
    "This next step is just to set the neural network into training mode, and not to actually train it itself."
   ]
  },
  {
   "cell_type": "code",
   "execution_count": 26,
   "id": "acafe86d",
   "metadata": {},
   "outputs": [
    {
     "data": {
      "text/plain": [
       "Sequential(\n",
       "  (0): Conv2d(1, 6, kernel_size=(5, 5), stride=(1, 1), padding=(2, 2))\n",
       "  (1): Sigmoid()\n",
       "  (2): AvgPool2d(kernel_size=2, stride=2, padding=0)\n",
       "  (3): Conv2d(6, 16, kernel_size=(5, 5), stride=(1, 1))\n",
       "  (4): Sigmoid()\n",
       "  (5): AvgPool2d(kernel_size=2, stride=2, padding=0)\n",
       "  (6): Flatten(start_dim=1, end_dim=-1)\n",
       "  (7): Linear(in_features=400, out_features=120, bias=True)\n",
       "  (8): Sigmoid()\n",
       "  (9): Linear(in_features=120, out_features=84, bias=True)\n",
       "  (10): Sigmoid()\n",
       "  (11): Linear(in_features=84, out_features=10, bias=True)\n",
       ")"
      ]
     },
     "execution_count": 26,
     "metadata": {},
     "output_type": "execute_result"
    }
   ],
   "source": [
    "net.train() # This doesn't actually train, but sets the network on training mode"
   ]
  },
  {
   "cell_type": "markdown",
   "id": "0c2c89f8-b6bd-4a89-a1a7-89ff91e1743c",
   "metadata": {},
   "source": [
    "This next bit is where the training happens"
   ]
  },
  {
   "cell_type": "code",
   "execution_count": 27,
   "id": "6fcda976-4ef4-42e3-87c9-8071a64cfa6c",
   "metadata": {},
   "outputs": [],
   "source": [
    "X, y = next(iter(train_iter)) # Pick a single minibatch at random to do the training\n",
    "optimizer.zero_grad() # before running the forward/backward pass we need to reset the gradient (otherwise it accumulates)\n",
    "y_hat = net(X) # Forward pass on the data to make prediction\n",
    "l = loss(y_hat, y) # calculate the loss \n",
    "l.backward() # back propagate the loss to update the weights\n",
    "optimizer.step() # step forward in optimisation"
   ]
  },
  {
   "cell_type": "markdown",
   "id": "8742ecea-ad62-492c-b54d-98a200e4a170",
   "metadata": {},
   "source": [
    "And that's it! Pat yourselves on the back, because you've trained your very first CNN for image recognition.\n",
    "\n",
    "### 2.6 Evaluate Your Model\n",
    "Okay, that's all well and good, but how well does it actually perform? Let's extract some of the accuracies. \n",
    "\n",
    "#### 2.6.1 Train Accuracy"
   ]
  },
  {
   "cell_type": "code",
   "execution_count": 28,
   "id": "8c57655d",
   "metadata": {},
   "outputs": [
    {
     "name": "stdout",
     "output_type": "stream",
     "text": [
      "1. The mini-batch loss is: \t\t\t\t tensor(640.7407, grad_fn=<MulBackward0>)\n",
      "2. The number of correct training predictions is: \t 23.0\n",
      "3. The number of total training predictions is: \t 256\n",
      "This means we get a training accuracy of  0.08984375\n",
      "The average loss for each example is  2.5028934478759766\n"
     ]
    }
   ],
   "source": [
    "metric_1 = l * X.shape[0]\n",
    "metric_2 = accuracy(y_hat, y)\n",
    "metric_3 = X.shape[0] \n",
    "\n",
    "\n",
    "print(\"1. The mini-batch loss is: \\t\\t\\t\\t\", metric_1)\n",
    "print(\"2. The number of correct training predictions is: \\t\", metric_2)\n",
    "print(\"3. The number of total training predictions is: \\t\", metric_3)\n",
    "\n",
    "print(\"This means we get a training accuracy of \", metric_2/metric_3)\n",
    "print(\"The average loss for each example is \", float(metric_1/metric_3))"
   ]
  },
  {
   "cell_type": "markdown",
   "id": "829c9366-761d-4cfb-89fb-71a0b3891a4f",
   "metadata": {},
   "source": [
    "#### 2.6.2 Test Accuracy"
   ]
  },
  {
   "cell_type": "code",
   "execution_count": 29,
   "id": "cb7cd830",
   "metadata": {
    "scrolled": true
   },
   "outputs": [
    {
     "name": "stdout",
     "output_type": "stream",
     "text": [
      "The testing accuracy is:  0.1\n"
     ]
    }
   ],
   "source": [
    "test_accuracy = evaluate_accuracy(net, test_iter)\n",
    "print(\"The testing accuracy is: \", test_accuracy)"
   ]
  },
  {
   "cell_type": "markdown",
   "id": "ffa9e135",
   "metadata": {},
   "source": [
    "The train and test accuracy both hover around 10%. That means the model gets the right label about 1 in 10 times. This is no better than randomly picking labels for each image! However, we have only trained over a single mini batch of data. Of course the performance is going to be low. In reality we need to run it over the entire data at least once. Each time we run over the train data once is called an epoch. In the next section we will talk about scaling this up for more training examples."
   ]
  },
  {
   "cell_type": "markdown",
   "id": "b2243740",
   "metadata": {},
   "source": [
    "## 3. Scaling Up the Training"
   ]
  },
  {
   "cell_type": "code",
   "execution_count": 30,
   "id": "60f006c8",
   "metadata": {},
   "outputs": [
    {
     "data": {
      "text/plain": [
       "Sequential(\n",
       "  (0): Conv2d(1, 6, kernel_size=(5, 5), stride=(1, 1), padding=(2, 2))\n",
       "  (1): Sigmoid()\n",
       "  (2): AvgPool2d(kernel_size=2, stride=2, padding=0)\n",
       "  (3): Conv2d(6, 16, kernel_size=(5, 5), stride=(1, 1))\n",
       "  (4): Sigmoid()\n",
       "  (5): AvgPool2d(kernel_size=2, stride=2, padding=0)\n",
       "  (6): Flatten(start_dim=1, end_dim=-1)\n",
       "  (7): Linear(in_features=400, out_features=120, bias=True)\n",
       "  (8): Sigmoid()\n",
       "  (9): Linear(in_features=120, out_features=84, bias=True)\n",
       "  (10): Sigmoid()\n",
       "  (11): Linear(in_features=84, out_features=10, bias=True)\n",
       ")"
      ]
     },
     "execution_count": 30,
     "metadata": {},
     "output_type": "execute_result"
    }
   ],
   "source": [
    "net.apply(init_weights) # let's reset the NN weights"
   ]
  },
  {
   "cell_type": "code",
   "execution_count": 32,
   "id": "70cfbd3d",
   "metadata": {},
   "outputs": [
    {
     "name": "stdout",
     "output_type": "stream",
     "text": [
      "loss 0.001, train acc 1.000, test acc 0.904\n",
      "2606.5 sec taken \n"
     ]
    }
   ],
   "source": [
    "timer = Timer() \n",
    "num_epochs = 500\n",
    "\n",
    "# Keep track of accuracy for each epoch\n",
    "train_accuracy = np.array([])\n",
    "test_accuracy = np.array([])\n",
    "epochs = np.arange(num_epochs) + 1\n",
    "\n",
    "for epoch in range(num_epochs):\n",
    "    metric = Accumulator(3) # define a 3d accumulator\n",
    "    net.train() # set to train\n",
    "    for i, (X, y) in enumerate(train_iter): # Loop thru each mini-batch\n",
    "        timer.start()\n",
    "        optimizer.zero_grad() # before running the forward/backward pass we need to reset the gradient (otherwise it accumulates)\n",
    "        y_hat = net(X) # Forward pass on the data to make prediction\n",
    "        l = loss(y_hat, y) # calculate the loss \n",
    "        l.backward() # back propagate the loss\n",
    "        optimizer.step() # step forward in optimisation\n",
    "        with torch.no_grad():\n",
    "            metric.add(l * X.shape[0], accuracy(y_hat, y), X.shape[0]) # mini-batch loss,  # matches, # total examples\n",
    "        timer.stop()\n",
    "        train_l = metric[0] / metric[2] # loss per unit \n",
    "        train_acc = metric[1] / metric[2] # training accuracy\n",
    "    test_acc = evaluate_accuracy(net, test_iter)\n",
    "    \n",
    "    train_accuracy = np.append(train_accuracy, train_acc)\n",
    "    test_accuracy = np.append(test_accuracy, test_acc)\n",
    "\n",
    "print(f'loss {train_l:.3f}, train acc {train_acc:.3f}, '\n",
    "      f'test acc {test_acc:.3f}')\n",
    "print(f'{timer.sum():.1f} sec taken ')"
   ]
  },
  {
   "cell_type": "code",
   "execution_count": 33,
   "id": "34370039",
   "metadata": {},
   "outputs": [
    {
     "data": {
      "image/png": "[encoded data removed]",
      "text/plain": [
       "<Figure size 432x288 with 1 Axes>"
      ]
     },
     "metadata": {
      "needs_background": "light"
     },
     "output_type": "display_data"
    }
   ],
   "source": [
    "plt.plot(epochs, train_accuracy, label = \"Training Accuracy\")\n",
    "plt.plot(epochs, test_accuracy, label = \"Testing Accuracy\")\n",
    "plt.ylim(0, 1)\n",
    "plt.xlabel(\"# Epochs\")\n",
    "plt.ylabel(\"Accuracy\")\n",
    "plt.legend()\n",
    "plt.show()"
   ]
  },
  {
   "cell_type": "markdown",
   "id": "b77cb53b",
   "metadata": {},
   "source": [
    "---"
   ]
  },
  {
   "cell_type": "markdown",
   "id": "945402c0",
   "metadata": {},
   "source": [
    "# HELPER FUNCTIONS\n",
    "Please run the TWO cells below directly after the preamble"
   ]
  },
  {
   "cell_type": "code",
   "execution_count": 2,
   "id": "340c5e7f",
   "metadata": {},
   "outputs": [],
   "source": [
    "class Accumulator:\n",
    "    \"\"\"For accumulating sums over `n` variables.\"\"\"\n",
    "    def __init__(self, n):\n",
    "        self.data = [0.0] * n\n",
    "\n",
    "    def add(self, *args):\n",
    "        self.data = [a + float(b) for a, b in zip(self.data, args)]\n",
    "\n",
    "    def reset(self):\n",
    "        self.data = [0.0] * len(self.data)\n",
    "        \n",
    "    def print(self):\n",
    "        print(self.data)\n",
    "\n",
    "    def __getitem__(self, idx):\n",
    "        return self.data[idx]\n",
    "\n",
    "def accuracy(y_hat, y):\n",
    "    \"\"\"Compute the number of correct predictions.\n",
    "    Defined in :numref:`sec_utils`\"\"\"\n",
    "    if len(y_hat.shape) > 1 and y_hat.shape[1] > 1: # ensure there's more than one example \n",
    "        y_hat = argmax(y_hat, axis=1) # Choose the column corresponding to theb highest y_hat\n",
    "    cmp = astype(y_hat, y.dtype) == y # see if it matches\n",
    "    return float(reduce_sum(astype(cmp, y.dtype))) #check how many matches there are\n",
    "\n",
    "astype = lambda x, *args, **kwargs: x.type(*args, **kwargs)\n",
    "reduce_sum = lambda x, *args, **kwargs: x.sum(*args, **kwargs)\n",
    "argmax = lambda x, *args, **kwargs: x.argmax(*args, **kwargs)\n",
    "\n",
    "def evaluate_accuracy(net, data_iter):  #@save\n",
    "    \"\"\"Compute the accuracy for a model on a dataset using a GPU.\"\"\"\n",
    "    if isinstance(net, nn.Module): # Check if net is a nn.Module (type)\n",
    "        net.eval()  # Set the model to evaluation mode\n",
    "    # No. of correct predictions, no. of predictions\n",
    "    metric = Accumulator(2)\n",
    "\n",
    "    with torch.no_grad():\n",
    "        for X, y in data_iter:\n",
    "            metric.add(accuracy(net(X), y), y.numel())\n",
    "    return metric[0] / metric[1]"
   ]
  },
  {
   "cell_type": "code",
   "execution_count": 3,
   "id": "6cd044a5",
   "metadata": {},
   "outputs": [],
   "source": [
    "class Animator:\n",
    "    \"\"\"For plotting data in animation.\"\"\"\n",
    "    def __init__(self, xlabel=None, ylabel=None, legend=None, xlim=None,\n",
    "                 ylim=None, xscale='linear', yscale='linear',\n",
    "                 fmts=('-', 'm--', 'g-.', 'r:'), nrows=1, ncols=1,\n",
    "                 figsize=(3.5, 2.5)):\n",
    "        \"\"\"Defined in :numref:`sec_utils`\"\"\"\n",
    "        # Incrementally plot multiple lines\n",
    "        if legend is None:\n",
    "            legend = []\n",
    "        use_svg_display()\n",
    "        self.fig, self.axes = plt.subplots(nrows, ncols, figsize=figsize)\n",
    "        if nrows * ncols == 1:\n",
    "            self.axes = [self.axes, ]\n",
    "        # Use a lambda function to capture arguments\n",
    "        self.config_axes = lambda: set_axes(\n",
    "            self.axes[0], xlabel, ylabel, xlim, ylim, xscale, yscale, legend)\n",
    "        self.X, self.Y, self.fmts = None, None, fmts\n",
    "\n",
    "    def add(self, x, y):\n",
    "        # Add multiple data points into the figure\n",
    "        if not hasattr(y, \"__len__\"):\n",
    "            y = [y]\n",
    "        n = len(y)\n",
    "        if not hasattr(x, \"__len__\"):\n",
    "            x = [x] * n\n",
    "        if not self.X:\n",
    "            self.X = [[] for _ in range(n)]\n",
    "        if not self.Y:\n",
    "            self.Y = [[] for _ in range(n)]\n",
    "        for i, (a, b) in enumerate(zip(x, y)):\n",
    "            if a is not None and b is not None:\n",
    "                self.X[i].append(a)\n",
    "                self.Y[i].append(b)\n",
    "        self.axes[0].cla()\n",
    "        for x, y, fmt in zip(self.X, self.Y, self.fmts):\n",
    "            self.axes[0].plot(x, y, fmt)\n",
    "        self.config_axes()\n",
    "        display.display(self.fig)\n",
    "        display.clear_output(wait=True)\n",
    "        \n",
    "class Timer:\n",
    "    \"\"\"Record multiple running times.\"\"\"\n",
    "    def __init__(self):\n",
    "        \"\"\"Defined in :numref:`subsec_normal_distribution_and_squared_loss`\"\"\"\n",
    "        self.times = []\n",
    "        self.start()\n",
    "\n",
    "    def start(self):\n",
    "        \"\"\"Start the timer.\"\"\"\n",
    "        self.tik = time.time()\n",
    "\n",
    "    def stop(self):\n",
    "        \"\"\"Stop the timer and record the time in a list.\"\"\"\n",
    "        self.times.append(time.time() - self.tik)\n",
    "        return self.times[-1]\n",
    "\n",
    "    def avg(self):\n",
    "        \"\"\"Return the average time.\"\"\"\n",
    "        return sum(self.times) / len(self.times)\n",
    "\n",
    "    def sum(self):\n",
    "        \"\"\"Return the sum of time.\"\"\"\n",
    "        return sum(self.times)\n",
    "\n",
    "    def cumsum(self):\n",
    "        \"\"\"Return the accumulated time.\"\"\"\n",
    "        return np.array(self.times).cumsum().tolist()\n",
    "\n",
    "def use_svg_display():\n",
    "    \"\"\"Use the svg format to display a plot in Jupyter.\n",
    "    Defined in :numref:`sec_calculus`\"\"\"\n",
    "    display.set_matplotlib_formats('svg')\n",
    "\n",
    "def set_figsize(figsize=(3.5, 2.5)):\n",
    "    \"\"\"Set the figure size for matplotlib.\n",
    "    Defined in :numref:`sec_calculus`\"\"\"\n",
    "    use_svg_display()\n",
    "    plt.rcParams['figure.figsize'] = figsize\n",
    "\n",
    "def set_axes(axes, xlabel, ylabel, xlim, ylim, xscale, yscale, legend):\n",
    "    \"\"\"Set the axes for matplotlib.\n",
    "    Defined in :numref:`sec_calculus`\"\"\"\n",
    "    axes.set_xlabel(xlabel), axes.set_ylabel(ylabel)\n",
    "    axes.set_xscale(xscale), axes.set_yscale(yscale)\n",
    "    axes.set_xlim(xlim),     axes.set_ylim(ylim)\n",
    "    if legend:\n",
    "        axes.legend(legend)\n",
    "    axes.grid()"
   ]
  },
  {
   "cell_type": "markdown",
   "id": "8b6d1d01",
   "metadata": {},
   "source": [
    "---"
   ]
  },
  {
   "cell_type": "markdown",
   "id": "1ef69932",
   "metadata": {},
   "source": [
    "You may notice that if you try to print the `train_iter` or `test_iter`, you'll get some weird object rather than the data itself. The reason for this is that we have opted to load the data via **generator functions** rather than directly. This means that unless the data is required at this moment, we will not need to store it, thus saving memory space. This method is often used in deep learning as the datasets we work with are often huge and cannot be stored properly in memory."
   ]
  },
  {
   "cell_type": "markdown",
   "id": "e9af31f0",
   "metadata": {},
   "source": [
    "# Convolutional Neural Networks in `PyTorch`\n",
    "\n",
    "In this tutorial, we will be building a Convolutional Neural Network (CNN) from the ground up using the `Python` library `PyTorch`. There are two main competing libraries when it comes to implementing neural networks in `Python`:\n",
    " * `tensorflow`: written with productionisation in mind\n",
    " * `pytorch`: written with experimentation and development of novel methods in mind\n",
    "\n",
    "For basic implementations of neural networks, most people use the package `keras` as a front-end to `tensorflow`. This allows the developer to build simple architectures with easy. `pytorch` does not come with a similar front-end, but its complexity also allows a huge level of flexibility\n",
    "\n",
    "## Convolutional Neural Networks\n",
    "CNNs are neural network architectures which facilitates the processing of image data using a technique called a convolution (or a window function). The very first CNN was pioneered by Yann LeCun -- often known as one of the founding fathers of neural networks -- in 1998 [here](https://www.researchgate.net/publication/2985446_Gradient-Based_Learning_Applied_to_Document_Recognition).\n",
    "\n",
    "CNNs have to contend with the particularly challenging structure of image data. For simplicity sake, we will limite ourselves to a 28x28 black and white image. With 28x28 pixels, we have a total of 784 pixels with some sense of local 2D structure. Each pixel has a single channel which represents the lightness (or darkness) of that particular point.\n",
    "\n",
    "**NOTE** This tutorial is heavily dependent on the classes defined in [d2l](https://github.com/d2l-ai/d2l-en/blob/master/d2l/torch.py), which have been forked for convenience"
   ]
  },
  {
   "cell_type": "markdown",
   "id": "bfa8ae1d",
   "metadata": {},
   "source": [
    "The best way to understand the data is by looking at a few examples. Here's one:\n",
    "\n",
    "\n",
    "Which label do you think this image belongs to? \n",
    "\n",
    "The purpose of our model is for the computer to automatically take in each of these images, and spit out the (hopefully correct!) label.\n",
    "\n",
    "Image -> Model -> Label\n",
    "\n",
    "The process of refining the model to produce accurate results is called **training/fitting**, which requires labelled data to do. You are effectively learning the pattern between the input image and the output label.\n",
    "\n",
    "## 3. Train-Validate-Test Split"
   ]
  },
  {
   "cell_type": "markdown",
   "id": "af1f970e-9e65-428c-bf45-460c94773216",
   "metadata": {},
   "source": [
    "#### ***[Advanced]: Data Types\n",
    "*Ignore this section if you have never used Python before.*\n",
    "\n",
    "##### \\*.1 Typical Data Ingress\n",
    "If you have done any analysis in Python before you may be familiar with a typical data ingression. More often than not you will read in a `.csv` file and then cast it into a `numpy` or `pandas` object. For the R users, this is effectively a dataframe, and for the SAS users, this is simply a dataset item (like `.sas7bdat` objects). Either way, `numpy` and `pandas` objects are relatively straight-forward, you can access any part of it at anytime because the data is stored in your memory (RAM). This is normally accessible by the `print()` statement:"
   ]
  },
  {
   "cell_type": "code",
   "execution_count": 25,
   "id": "368466c3-165e-4a16-9aa8-7d06a9252518",
   "metadata": {},
   "outputs": [
    {
     "name": "stdout",
     "output_type": "stream",
     "text": [
      "<torch.utils.data.dataloader.DataLoader object at 0x00000239A6D6E100>\n",
      "59\n"
     ]
    }
   ],
   "source": [
    "print(train_iter)\n",
    "print(len(train_iter))"
   ]
  },
  {
   "cell_type": "markdown",
   "id": "999765fa-e788-423a-975b-fb05ad03b6cf",
   "metadata": {},
   "source": [
    "This is weird. What exactly is this `DataLoader` object?! How do we get the actual data itself?\n",
    "\n",
    "The length of the iterator makes sense.\n",
    "\n",
    "PyTorch comes with two different ways of reading data. The `DataSet` method reads very much like a `numpy` or `pandas` object. You can access individual examples by indexing the object. Let's try that below:"
   ]
  },
  {
   "cell_type": "code",
   "execution_count": 24,
   "id": "31d2baef-34f6-441a-ab95-b1b90a6603d4",
   "metadata": {},
   "outputs": [
    {
     "name": "stdout",
     "output_type": "stream",
     "text": [
      "(tensor([[[0.0000, 0.0000, 0.0000, 0.0000, 0.0000, 0.0000, 0.0000, 0.0000,\n",
      "          0.0000, 0.0000, 0.0000, 0.0000, 0.0000, 0.0000, 0.0000, 0.0000,\n",
      "          0.0000, 0.0000, 0.0000, 0.0000, 0.0000, 0.0000, 0.0000, 0.0000,\n",
      "          0.0000, 0.0000, 0.0000, 0.0000],\n",
      "         [0.0000, 0.0000, 0.0000, 0.0000, 0.0000, 0.0000, 0.0000, 0.0000,\n",
      "          0.0000, 0.0000, 0.0000, 0.0000, 0.0000, 0.0000, 0.0000, 0.0000,\n",
      "          0.0000, 0.0000, 0.0000, 0.0000, 0.0000, 0.0000, 0.0000, 0.0000,\n",
      "          0.0000, 0.0000, 0.0000, 0.0000],\n",
      "         [0.0000, 0.0000, 0.0000, 0.0000, 0.0000, 0.0000, 0.0000, 0.0000,\n",
      "          0.0000, 0.0000, 0.0000, 0.0000, 0.0000, 0.0000, 0.0000, 0.0000,\n",
      "          0.0000, 0.0000, 0.0000, 0.0000, 0.0000, 0.0000, 0.0000, 0.0000,\n",
      "          0.0000, 0.0000, 0.0000, 0.0000],\n",
      "         [0.0000, 0.0000, 0.0000, 0.0000, 0.0000, 0.0000, 0.0000, 0.0000,\n",
      "          0.0000, 0.0000, 0.0000, 0.0000, 0.0039, 0.0000, 0.0000, 0.0510,\n",
      "          0.2863, 0.0000, 0.0000, 0.0039, 0.0157, 0.0000, 0.0000, 0.0000,\n",
      "          0.0000, 0.0039, 0.0039, 0.0000],\n",
      "         [0.0000, 0.0000, 0.0000, 0.0000, 0.0000, 0.0000, 0.0000, 0.0000,\n",
      "          0.0000, 0.0000, 0.0000, 0.0000, 0.0118, 0.0000, 0.1412, 0.5333,\n",
      "          0.4980, 0.2431, 0.2118, 0.0000, 0.0000, 0.0000, 0.0039, 0.0118,\n",
      "          0.0157, 0.0000, 0.0000, 0.0118],\n",
      "         [0.0000, 0.0000, 0.0000, 0.0000, 0.0000, 0.0000, 0.0000, 0.0000,\n",
      "          0.0000, 0.0000, 0.0000, 0.0000, 0.0235, 0.0000, 0.4000, 0.8000,\n",
      "          0.6902, 0.5255, 0.5647, 0.4824, 0.0902, 0.0000, 0.0000, 0.0000,\n",
      "          0.0000, 0.0471, 0.0392, 0.0000],\n",
      "         [0.0000, 0.0000, 0.0000, 0.0000, 0.0000, 0.0000, 0.0000, 0.0000,\n",
      "          0.0000, 0.0000, 0.0000, 0.0000, 0.0000, 0.0000, 0.6078, 0.9255,\n",
      "          0.8118, 0.6980, 0.4196, 0.6118, 0.6314, 0.4275, 0.2510, 0.0902,\n",
      "          0.3020, 0.5098, 0.2824, 0.0588],\n",
      "         [0.0000, 0.0000, 0.0000, 0.0000, 0.0000, 0.0000, 0.0000, 0.0000,\n",
      "          0.0000, 0.0000, 0.0000, 0.0039, 0.0000, 0.2706, 0.8118, 0.8745,\n",
      "          0.8549, 0.8471, 0.8471, 0.6392, 0.4980, 0.4745, 0.4784, 0.5725,\n",
      "          0.5529, 0.3451, 0.6745, 0.2588],\n",
      "         [0.0000, 0.0000, 0.0000, 0.0000, 0.0000, 0.0000, 0.0000, 0.0000,\n",
      "          0.0000, 0.0039, 0.0039, 0.0039, 0.0000, 0.7843, 0.9098, 0.9098,\n",
      "          0.9137, 0.8980, 0.8745, 0.8745, 0.8431, 0.8353, 0.6431, 0.4980,\n",
      "          0.4824, 0.7686, 0.8980, 0.0000],\n",
      "         [0.0000, 0.0000, 0.0000, 0.0000, 0.0000, 0.0000, 0.0000, 0.0000,\n",
      "          0.0000, 0.0000, 0.0000, 0.0000, 0.0000, 0.7176, 0.8824, 0.8471,\n",
      "          0.8745, 0.8941, 0.9216, 0.8902, 0.8784, 0.8706, 0.8784, 0.8667,\n",
      "          0.8745, 0.9608, 0.6784, 0.0000],\n",
      "         [0.0000, 0.0000, 0.0000, 0.0000, 0.0000, 0.0000, 0.0000, 0.0000,\n",
      "          0.0000, 0.0000, 0.0000, 0.0000, 0.0000, 0.7569, 0.8941, 0.8549,\n",
      "          0.8353, 0.7765, 0.7059, 0.8314, 0.8235, 0.8275, 0.8353, 0.8745,\n",
      "          0.8627, 0.9529, 0.7922, 0.0000],\n",
      "         [0.0000, 0.0000, 0.0000, 0.0000, 0.0000, 0.0000, 0.0000, 0.0000,\n",
      "          0.0000, 0.0039, 0.0118, 0.0000, 0.0471, 0.8588, 0.8627, 0.8314,\n",
      "          0.8549, 0.7529, 0.6627, 0.8902, 0.8157, 0.8549, 0.8784, 0.8314,\n",
      "          0.8863, 0.7725, 0.8196, 0.2039],\n",
      "         [0.0000, 0.0000, 0.0000, 0.0000, 0.0000, 0.0000, 0.0000, 0.0000,\n",
      "          0.0000, 0.0000, 0.0235, 0.0000, 0.3882, 0.9569, 0.8706, 0.8627,\n",
      "          0.8549, 0.7961, 0.7765, 0.8667, 0.8431, 0.8353, 0.8706, 0.8627,\n",
      "          0.9608, 0.4667, 0.6549, 0.2196],\n",
      "         [0.0000, 0.0000, 0.0000, 0.0000, 0.0000, 0.0000, 0.0000, 0.0000,\n",
      "          0.0000, 0.0157, 0.0000, 0.0000, 0.2157, 0.9255, 0.8941, 0.9020,\n",
      "          0.8941, 0.9412, 0.9098, 0.8353, 0.8549, 0.8745, 0.9176, 0.8510,\n",
      "          0.8510, 0.8196, 0.3608, 0.0000],\n",
      "         [0.0000, 0.0000, 0.0039, 0.0157, 0.0235, 0.0275, 0.0078, 0.0000,\n",
      "          0.0000, 0.0000, 0.0000, 0.0000, 0.9294, 0.8863, 0.8510, 0.8745,\n",
      "          0.8706, 0.8588, 0.8706, 0.8667, 0.8471, 0.8745, 0.8980, 0.8431,\n",
      "          0.8549, 1.0000, 0.3020, 0.0000],\n",
      "         [0.0000, 0.0118, 0.0000, 0.0000, 0.0000, 0.0000, 0.0000, 0.0000,\n",
      "          0.0000, 0.2431, 0.5686, 0.8000, 0.8941, 0.8118, 0.8353, 0.8667,\n",
      "          0.8549, 0.8157, 0.8275, 0.8549, 0.8784, 0.8745, 0.8588, 0.8431,\n",
      "          0.8784, 0.9569, 0.6235, 0.0000],\n",
      "         [0.0000, 0.0000, 0.0000, 0.0000, 0.0706, 0.1725, 0.3216, 0.4196,\n",
      "          0.7412, 0.8941, 0.8627, 0.8706, 0.8510, 0.8863, 0.7843, 0.8039,\n",
      "          0.8275, 0.9020, 0.8784, 0.9176, 0.6902, 0.7373, 0.9804, 0.9725,\n",
      "          0.9137, 0.9333, 0.8431, 0.0000],\n",
      "         [0.0000, 0.2235, 0.7333, 0.8157, 0.8784, 0.8667, 0.8784, 0.8157,\n",
      "          0.8000, 0.8392, 0.8157, 0.8196, 0.7843, 0.6235, 0.9608, 0.7569,\n",
      "          0.8078, 0.8745, 1.0000, 1.0000, 0.8667, 0.9176, 0.8667, 0.8275,\n",
      "          0.8627, 0.9098, 0.9647, 0.0000],\n",
      "         [0.0118, 0.7922, 0.8941, 0.8784, 0.8667, 0.8275, 0.8275, 0.8392,\n",
      "          0.8039, 0.8039, 0.8039, 0.8627, 0.9412, 0.3137, 0.5882, 1.0000,\n",
      "          0.8980, 0.8667, 0.7373, 0.6039, 0.7490, 0.8235, 0.8000, 0.8196,\n",
      "          0.8706, 0.8941, 0.8824, 0.0000],\n",
      "         [0.3843, 0.9137, 0.7765, 0.8235, 0.8706, 0.8980, 0.8980, 0.9176,\n",
      "          0.9765, 0.8627, 0.7608, 0.8431, 0.8510, 0.9451, 0.2549, 0.2863,\n",
      "          0.4157, 0.4588, 0.6588, 0.8588, 0.8667, 0.8431, 0.8510, 0.8745,\n",
      "          0.8745, 0.8784, 0.8980, 0.1137],\n",
      "         [0.2941, 0.8000, 0.8314, 0.8000, 0.7569, 0.8039, 0.8275, 0.8824,\n",
      "          0.8471, 0.7255, 0.7725, 0.8078, 0.7765, 0.8353, 0.9412, 0.7647,\n",
      "          0.8902, 0.9608, 0.9373, 0.8745, 0.8549, 0.8314, 0.8196, 0.8706,\n",
      "          0.8627, 0.8667, 0.9020, 0.2627],\n",
      "         [0.1882, 0.7961, 0.7176, 0.7608, 0.8353, 0.7725, 0.7255, 0.7451,\n",
      "          0.7608, 0.7529, 0.7922, 0.8392, 0.8588, 0.8667, 0.8627, 0.9255,\n",
      "          0.8824, 0.8471, 0.7804, 0.8078, 0.7294, 0.7098, 0.6941, 0.6745,\n",
      "          0.7098, 0.8039, 0.8078, 0.4510],\n",
      "         [0.0000, 0.4784, 0.8588, 0.7569, 0.7020, 0.6706, 0.7176, 0.7686,\n",
      "          0.8000, 0.8235, 0.8353, 0.8118, 0.8275, 0.8235, 0.7843, 0.7686,\n",
      "          0.7608, 0.7490, 0.7647, 0.7490, 0.7765, 0.7529, 0.6902, 0.6118,\n",
      "          0.6549, 0.6941, 0.8235, 0.3608],\n",
      "         [0.0000, 0.0000, 0.2902, 0.7412, 0.8314, 0.7490, 0.6863, 0.6745,\n",
      "          0.6863, 0.7098, 0.7255, 0.7373, 0.7412, 0.7373, 0.7569, 0.7765,\n",
      "          0.8000, 0.8196, 0.8235, 0.8235, 0.8275, 0.7373, 0.7373, 0.7608,\n",
      "          0.7529, 0.8471, 0.6667, 0.0000],\n",
      "         [0.0078, 0.0000, 0.0000, 0.0000, 0.2588, 0.7843, 0.8706, 0.9294,\n",
      "          0.9373, 0.9490, 0.9647, 0.9529, 0.9569, 0.8667, 0.8627, 0.7569,\n",
      "          0.7490, 0.7020, 0.7137, 0.7137, 0.7098, 0.6902, 0.6510, 0.6588,\n",
      "          0.3882, 0.2275, 0.0000, 0.0000],\n",
      "         [0.0000, 0.0000, 0.0000, 0.0000, 0.0000, 0.0000, 0.0000, 0.1569,\n",
      "          0.2392, 0.1725, 0.2824, 0.1608, 0.1373, 0.0000, 0.0000, 0.0000,\n",
      "          0.0000, 0.0000, 0.0000, 0.0000, 0.0000, 0.0000, 0.0000, 0.0000,\n",
      "          0.0000, 0.0000, 0.0000, 0.0000],\n",
      "         [0.0000, 0.0000, 0.0000, 0.0000, 0.0000, 0.0000, 0.0000, 0.0000,\n",
      "          0.0000, 0.0000, 0.0000, 0.0000, 0.0000, 0.0000, 0.0000, 0.0000,\n",
      "          0.0000, 0.0000, 0.0000, 0.0000, 0.0000, 0.0000, 0.0000, 0.0000,\n",
      "          0.0000, 0.0000, 0.0000, 0.0000],\n",
      "         [0.0000, 0.0000, 0.0000, 0.0000, 0.0000, 0.0000, 0.0000, 0.0000,\n",
      "          0.0000, 0.0000, 0.0000, 0.0000, 0.0000, 0.0000, 0.0000, 0.0000,\n",
      "          0.0000, 0.0000, 0.0000, 0.0000, 0.0000, 0.0000, 0.0000, 0.0000,\n",
      "          0.0000, 0.0000, 0.0000, 0.0000]]]), 9)\n"
     ]
    },
    {
     "data": {
      "text/plain": [
       "0"
      ]
     },
     "execution_count": 24,
     "metadata": {},
     "output_type": "execute_result"
    }
   ],
   "source": [
    "from torchvision import datasets\n",
    "from torchvision.transforms import ToTensor\n",
    "\n",
    "training_data = datasets.FashionMNIST(\n",
    "    root=\"./data\",\n",
    "    train=True,\n",
    "    download=True,\n",
    "    transform=ToTensor()\n",
    ")\n",
    "\n",
    "print(training_data[0]) # Get the first element of the training set.\n",
    "\n",
    "# Free up some memory\n",
    "import gc\n",
    "del training_data\n",
    "gc.collect()"
   ]
  },
  {
   "cell_type": "markdown",
   "id": "25e1313e-e1c3-432b-88fa-cc3c63bf1f40",
   "metadata": {},
   "source": [
    "The reason for this is simple. The `DataSet` object reads all the necessary data into memory directly. However the `DataLoader` object creates a generator function. That is to say it creates an iterable. The `DataLoader` method will only read the data when necessary. This might seem like a lot of work for these smaller datasets. However, if you try to do this for huge datasets which might take up 10-20gb of memory, the `DataSet` method becomes unwealdy. We can still access individual examples by sampling the iterator."
   ]
  },
  {
   "cell_type": "markdown",
   "id": "2fa06529-0d86-4008-b3cb-0697cf1ecfd9",
   "metadata": {},
   "source": [
    "If we try a similar thing for the `DataLoader` object, we don't get the same thing."
   ]
  },
  {
   "cell_type": "markdown",
   "id": "042bbbe8",
   "metadata": {},
   "source": [
    "## 4. Data Formats\n",
    "`torch.utils.data.DataLoader` format\n",
    "Typically, when you work with datasets, you download it into your directory and you work directly with it. This is fine for smaller datasets, but when you work with massive datasets this can be unworkable. You may not have enough RAM to store the dataset in memory, and often times, you don't *need* to use all the data at the same time. `torch` comes with a useful class called `DataLoader`. Rather than directly download your dataset, it allows you to define an iterable. With an iterable, you only access the data when needed using special functions, ensuring both parallisability and efficiency.\n",
    "\n",
    "First we must determine a batch-size:\n",
    "* Small batch sizes ensures frequent updating of the model (leading to fewer epochs required), but can be more computationally expensive\n",
    "* Large batch sizes are easier to run but can require more epochs to converge"
   ]
  },
  {
   "cell_type": "code",
   "execution_count": 5,
   "id": "301d91d0",
   "metadata": {},
   "outputs": [],
   "source": []
  },
  {
   "cell_type": "markdown",
   "id": "762c4936",
   "metadata": {},
   "source": [
    "You may get the following error:\n",
    "\n",
    "```\n",
    "C:\\Users\\Brian\\anaconda3\\envs\\ML-sandbox\\lib\\site-packages\\torchvision\\datasets\\mnist.py:498: UserWarning: The given NumPy array is not writeable, and PyTorch does not support non-writeable tensors. This means you can write to the underlying (supposedly non-writeable) NumPy array using the tensor. You may want to copy the array to protect its data or make it writeable before converting it to a tensor. This type of warning will be suppressed for the rest of this program. (Triggered internally at  ..\\torch\\csrc\\utils\\tensor_numpy.cpp:180.)\n",
    "  return torch.from_numpy(parsed.astype(m[2], copy=False)).view(*s)\n",
    "  \n",
    "```\n",
    "\n",
    "This can be ignored"
   ]
  },
  {
   "cell_type": "code",
   "execution_count": 6,
   "id": "a17939dd",
   "metadata": {},
   "outputs": [
    {
     "name": "stdout",
     "output_type": "stream",
     "text": [
      "<torch.utils.data.dataloader.DataLoader object at 0x00000200B84B68B0>\n"
     ]
    }
   ],
   "source": [
    "print(train_iter)"
   ]
  },
  {
   "cell_type": "markdown",
   "id": "1cc9ab09",
   "metadata": {},
   "source": [
    "Okay, so it appears that I can't print out the value of `train_iter` since it's a dataloader object. This makes sense since this is a generator object. We need to think of more creative ways of outputting this. First let's think about how many units we expect in `train_iter`. There are 60,000 training examples, and we batch them up into batch sizes of 256 -- this means there should be 235 batches (rounded up as the final batch will have less than 256 units, but that's fine)."
   ]
  },
  {
   "cell_type": "code",
   "execution_count": 7,
   "id": "896c0417",
   "metadata": {},
   "outputs": [
    {
     "name": "stdout",
     "output_type": "stream",
     "text": [
      "59\n"
     ]
    }
   ],
   "source": [
    "print(len(train_iter))"
   ]
  },
  {
   "cell_type": "markdown",
   "id": "00c85426",
   "metadata": {},
   "source": [
    "This is as expected! In order to print out an individual example or batch, we need to randomly sample from the generator. For example's sake let's get 3 batches."
   ]
  },
  {
   "cell_type": "code",
   "execution_count": 8,
   "id": "c7af150a",
   "metadata": {
    "scrolled": true
   },
   "outputs": [
    {
     "data": {
      "text/plain": [
       "3"
      ]
     },
     "execution_count": 8,
     "metadata": {},
     "output_type": "execute_result"
    }
   ],
   "source": [
    "sampled_batches = random.sample(list(train_iter), 3)\n",
    "len(sampled_batches) # shows how many batches there are"
   ]
  },
  {
   "cell_type": "code",
   "execution_count": 9,
   "id": "2b5b26e9",
   "metadata": {},
   "outputs": [
    {
     "data": {
      "text/plain": [
       "2"
      ]
     },
     "execution_count": 9,
     "metadata": {},
     "output_type": "execute_result"
    }
   ],
   "source": [
    "len(sampled_batches[0])"
   ]
  },
  {
   "cell_type": "code",
   "execution_count": 10,
   "id": "0ea8904f",
   "metadata": {},
   "outputs": [
    {
     "name": "stdout",
     "output_type": "stream",
     "text": [
      "The number of exampels in the batch of the predictors are:  1024\n",
      "The number of exampels in the batch of the labels are:  1024\n",
      "They should be equal!\n"
     ]
    }
   ],
   "source": [
    "# For argument's sake let's choose the 3rd batch\n",
    "batch_no = 2\n",
    "\n",
    "# The object is a list of lists -- each batch with two entries\n",
    "# 0 denotes the predictors\n",
    "# 1 denotes the labels\n",
    "predictor = sampled_batches[batch_no][0]\n",
    "label = sampled_batches[batch_no][1]\n",
    "\n",
    "print(\"The number of exampels in the batch of the predictors are: \", len(predictor))\n",
    "print(\"The number of exampels in the batch of the labels are: \", len(label))\n",
    "print(\"They should be equal!\")"
   ]
  },
  {
   "cell_type": "code",
   "execution_count": 11,
   "id": "20cc6893",
   "metadata": {},
   "outputs": [
    {
     "name": "stdout",
     "output_type": "stream",
     "text": [
      "The shape of the predictor torch.Size([1, 28, 28])\n",
      "The shape of the predictor torch.Size([])\n"
     ]
    }
   ],
   "source": []
  },
  {
   "cell_type": "markdown",
   "id": "1dee2660",
   "metadata": {},
   "source": [
    "You should get the following:\n",
    "* Predictor: `[1,28,28]` -- this means it's a tensor with a single channel and 28x28 (if it was RGB colour it would be `[3,28,28]`)\n",
    "* Label: `[]` -- this means it's a scalar"
   ]
  },
  {
   "cell_type": "code",
   "execution_count": 12,
   "id": "f7828c72",
   "metadata": {},
   "outputs": [
    {
     "data": {
      "image/png": "[encoded data removed]",
      "text/plain": [
       "<Figure size 432x288 with 1 Axes>"
      ]
     },
     "metadata": {
      "needs_background": "light"
     },
     "output_type": "display_data"
    },
    {
     "name": "stdout",
     "output_type": "stream",
     "text": [
      "This shows an image of:  2\n"
     ]
    }
   ],
   "source": []
  },
  {
   "cell_type": "markdown",
   "id": "2ca34341",
   "metadata": {},
   "source": [
    "### A note on `grad`\n",
    "Each tensor will have an option of grad or nograd. By default it is `false`. When evaluating an NN, this is the option we need, since we don't want it to track the history (required for calculating gradients). However, when training, we need to keep this on so that we can do autodiff. "
   ]
  },
  {
   "cell_type": "code",
   "execution_count": 15,
   "id": "0d50ba8c",
   "metadata": {},
   "outputs": [
    {
     "data": {
      "text/plain": [
       "False"
      ]
     },
     "execution_count": 15,
     "metadata": {},
     "output_type": "execute_result"
    }
   ],
   "source": [
    "single_predictor.requires_grad"
   ]
  }
 ],
 "metadata": {
  "kernelspec": {
   "display_name": "cnn-tutorial",
   "language": "python",
   "name": "cnn-tutorial"
  },
  "language_info": {
   "codemirror_mode": {
    "name": "ipython",
    "version": 3
   },
   "file_extension": ".py",
   "mimetype": "text/x-python",
   "name": "python",
   "nbconvert_exporter": "python",
   "pygments_lexer": "ipython3",
   "version": "3.9.7"
  }
 },
 "nbformat": 4,
 "nbformat_minor": 5
}
