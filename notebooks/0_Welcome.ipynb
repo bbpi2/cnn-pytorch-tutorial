{
 "cells": [
  {
   "cell_type": "markdown",
   "id": "24f7f276-97c6-4eda-b7d4-3c0229d5d72b",
   "metadata": {},
   "source": [
    "# [Workshop] Image Recognition with Convolutional Neural Networks\n",
    "\n",
    "\n",
    "![self_driving](../images/self_driving.png)\n",
    "\n",
    "Source: [xkcd](https://xkcd.com/1897/)\n",
    "\n",
    "## 💳 Credit\n",
    "This tutorial was heavily borrowed from the [d2l.ia](http://d2l.ai/). Major changes made include:\n",
    "* Simplification and adaptation to cpu-only implementation\n",
    "* Comments and descriptions of the functions\n",
    "\n",
    "Note the sample code in the d2l.ia [repo](https://github.com/d2l-ai/d2l-en) is subject to a modified [MIT License](https://en.wikipedia.org/wiki/MIT_License). See the source [github repo](https://github.com/bbpi2/cnn-pytorch-tutorial) for the licensing of this tutorial.\n",
    "\n",
    "---\n",
    "\n",
    "## ✍🏽 Pre-requisites\n",
    "Welcome! This is part 4 of a 4 part series of neural network learning sessions! Before we begin, to gauge the correct level, here are some of the pre-requisites:\n",
    " * Some familiarity with programming languagues (it doesn't have to be Python, we will be going through some basics here).\n",
    " * Some familiarity with convolutional neural networks (either from the past presentation or otherwise).\n",
    "\n",
    "These are, of course, just guidelines, feel free to jump into it regardless and ask heaps of questions!\n",
    "\n",
    "---\n",
    "\n",
    "## 🛣️ Roadmap\n",
    "\n",
    "### 🐍 Part 1: Exploring Jupyter Notebooks & Python (~30 mins)\n",
    " * Here we learn the basics of using Jupyter Notebooks and Python -- this is essential if you have never used either before.\n",
    " * If you have used both before, feel free to skip this section, but we would still recommend flicking through and making sure you understand what's going!\n",
    " \n",
    "### 🏞️ Part 2: Data Exploration (~30 mins)\n",
    " * Here we will go through a generic version of the data science pipeline.\n",
    " * We will explain the problem statement and the provided data.\n",
    " * We will do some basic exploration and wrangling of the data to prepare for Part 3.\n",
    " \n",
    "### 💪 Part 3: Building and Training Your Model (~30 mins)\n",
    " * We will attempt to reconstruct a particular convolutional neural network architecture (ie. LeNet).\n",
    " * We will train on a small sample of our dataset to ensure the code works.\n",
    " \n",
    "### 🚀 Part 4: To Infinity and Beyond! (~30 mins)\n",
    " * We will apply our model to the entire train set available to us and scale up the training a bit more\n",
    " * We will discuss some of the effects of overfitting on our model\n",
    " * This section will contain a set of resources and extension"
   ]
  },
  {
   "cell_type": "markdown",
   "id": "356161d6-bc55-4c2d-aa12-cf13fd09c8a0",
   "metadata": {},
   "source": [
    "## To Do List\n",
    "- [ ] Create separate repo for environment\n",
    "- [ ] Add hyperlinks to sections\n",
    "- [ ] Add note about mini-batches\n",
    "- [ ] Add helper module"
   ]
  }
 ],
 "metadata": {
  "kernelspec": {
   "display_name": "cnn-tutorial",
   "language": "python",
   "name": "cnn-tutorial"
  },
  "language_info": {
   "codemirror_mode": {
    "name": "ipython",
    "version": 3
   },
   "file_extension": ".py",
   "mimetype": "text/x-python",
   "name": "python",
   "nbconvert_exporter": "python",
   "pygments_lexer": "ipython3",
   "version": "3.9.7"
  }
 },
 "nbformat": 4,
 "nbformat_minor": 5
}
