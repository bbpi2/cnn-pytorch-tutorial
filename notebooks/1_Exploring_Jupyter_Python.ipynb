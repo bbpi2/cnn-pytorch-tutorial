{
 "cells": [
  {
   "cell_type": "markdown",
   "id": "85bdfbfd-0f29-44ee-893b-c26295750a91",
   "metadata": {},
   "source": [
    "# 🐍 Part 1: Exploring Jupyter Notebooks & Python\n",
    "\n",
    "**Disclaimer:** This section is largely borrowed from the [Jupyter Notebook tutorial](https://github.com/ABS-Neural-Nets-Tutorial/Intro-To-Neural-Networks/blob/main/notebooks/1_Exploring_Notebooks.ipynb) and the [R tutorial](https://github.com/ABS-Neural-Nets-Tutorial/Intro-To-Neural-Networks/blob/main/notebooks/2_Learning_R.ipynb).\n",
    "\n",
    "## 📓 About Notebooks\n",
    "Science is all about recording methods and results of experiments. Just like how a student of science is expected to use a lab book to scribble their thoughts and observations, likewise [Jupyter Notebooks](https://jupyterlab.readthedocs.io/en/stable/user/notebook.html) provide a platform for exploration and experimentation -- but with computer and code.\n",
    "\n",
    "When to use notebooks:  \n",
    " ❤️ Learning new methods and programming languages (ie. right now!)  \n",
    " ❤️ Experimenting with methods \n",
    "\n",
    "When not to use notebook:  \n",
    "🤮 Productionising an application\n",
    "\n",
    "Notebooks are made up of building blocks of **cells**. There are two such types\n",
    "1. **Markdown Cells:** You can write stuff here and add images (this current cell is a markdown cell).\n",
    "2. **Code Cells:** You can write and run code here (these cells usually have `[ ]` next to them, sometimes with a number inside).\n",
    "\n",
    "For the purpose of this workshop, we only need to run the **code cells**. In order to run a code cell, click on the cell so that you see a blue bar on the left side like so:\n",
    "\n",
    "![br](../images/blue-ribbon.png)\n",
    "\n",
    "Once selected, press the ▶️ in the top bar. Alternatively you can click on a code cell and press `cltr+enter` or `shift+enter`.\n",
    "\n",
    "<font color='#F89536'> **Discussion Question:** </font> What is the difference between `cltr+enter` and `shift+enter`?"
   ]
  },
  {
   "cell_type": "code",
   "execution_count": null,
   "id": "10a4f765-848d-40a9-8616-4e39eb6d28e5",
   "metadata": {},
   "outputs": [],
   "source": [
    "print(\"Hello World! 👋\")"
   ]
  },
  {
   "cell_type": "markdown",
   "id": "88fdb642-3c61-46b0-902f-de929bd508af",
   "metadata": {},
   "source": [
    "#### 🎉🎉🎉 Congratulations! You have passed the rite of passage for all programmers -- printing \"Hello World\" 🎉🎉🎉\n",
    "There are many tips and tricks of the trade. In an effort to not reinvent the wheel, we won't be going through those details today. If you are interested, please have a look at [this tutorial](https://github.com/ABS-Neural-Nets-Tutorial/Intro-To-Neural-Networks/blob/main/notebooks/1_Exploring_Notebooks.ipynb) by Jack. The interactive version can be found by opening [this binder](https://mybinder.org/v2/gh/ABS-Neural-Nets-Tutorial/Intro-To-Neural-Nets-Env/main?urlpath=git-pull%3Frepo%3Dhttps%253A%252F%252Fgithub.com%252FABS-Neural-Nets-Tutorial%252FIntro-To-Neural-Networks%26urlpath%3Dlab%252Ftree%252FIntro-To-Neural-Networks%252Fnotebooks%252F1_Exploring_Notebooks.ipynb%26branch%3Dmain).\n",
    "\n",
    "Here's a comprehensive list of [keyboard shortcuts](https://cheatography.com/weidadeyue/cheat-sheets/jupyter-notebook/pdf_bw/) as well.\n",
    "\n",
    "---"
   ]
  },
  {
   "cell_type": "markdown",
   "id": "0b98f1b3-fdfd-42d7-8aba-7402c4a3e9e8",
   "metadata": {},
   "source": [
    "## 🐍 Python\n",
    "\n",
    "---\n",
    "Here's a blurb about the technical details of python\n",
    "\n",
    "---\n",
    "### A note on comments\n",
    "Lines that begin with `#` are called **comments**. They are ignored by the computer when running the code, and overall is useful for helping us explain tricky bits of the program to other humans."
   ]
  },
  {
   "cell_type": "code",
   "execution_count": null,
   "id": "ab3d38ad-1ed5-423a-865e-8cf6a4e7adf4",
   "metadata": {},
   "outputs": [],
   "source": [
    "# This is a comment, the computer will completely ignore this\n",
    "# This is also a comment -- did you know Japan is suffering from a ninja shortage? 🥷🥷🥷\n",
    "# Maybe it's time for a career change https://www.businessinsider.com.au/iga-japan-is-facing-a-ninja-shortage-2018-7 🤔🤔🤔"
   ]
  },
  {
   "cell_type": "markdown",
   "id": "745ced46-beaa-40a6-a29d-9f94a38e0a53",
   "metadata": {},
   "source": [
    "### 🔢 Arithmetic & Variables\n",
    "Python can be used as a simple calculator!"
   ]
  },
  {
   "cell_type": "code",
   "execution_count": null,
   "id": "d0d85a85-8911-481e-afd9-103194f87094",
   "metadata": {},
   "outputs": [],
   "source": [
    "# Addition\n",
    "3 + 4"
   ]
  },
  {
   "cell_type": "code",
   "execution_count": null,
   "id": "f0d055b5-b153-4213-a76b-07dc6c7a1fff",
   "metadata": {},
   "outputs": [],
   "source": [
    "# Subtraction\n",
    "5 - 18"
   ]
  },
  {
   "cell_type": "code",
   "execution_count": null,
   "id": "b49c4511-8620-4d90-b1ef-12c081522af3",
   "metadata": {},
   "outputs": [],
   "source": [
    "# Multiplication\n",
    "2 * 8"
   ]
  },
  {
   "cell_type": "code",
   "execution_count": null,
   "id": "e6f469ef-fdd6-4f03-8a8b-02f1da61b87c",
   "metadata": {},
   "outputs": [],
   "source": [
    "# Division\n",
    "7 / 3"
   ]
  },
  {
   "cell_type": "code",
   "execution_count": null,
   "id": "5caa550b-1a19-46e2-bfb6-10638097b97e",
   "metadata": {},
   "outputs": [],
   "source": [
    "# Powers \n",
    "2 ** 3"
   ]
  },
  {
   "cell_type": "code",
   "execution_count": null,
   "id": "80f9c7a9-75e6-479a-9eb9-56a6bd1f0758",
   "metadata": {},
   "outputs": [],
   "source": [
    "# Boolean (reads, does 3 x 2 equal 4?)\n",
    "3 * 2 == 4"
   ]
  },
  {
   "cell_type": "markdown",
   "id": "6fc77770-1fa6-4ac3-8ec8-4c48269c01f2",
   "metadata": {},
   "source": [
    "You may notice the output is automatically displayed. This only happens to the **final line** of each cell. If you want to see something else displayed, you will need to use the in-built function `print()` (don't worry we will talk about functions in a bit."
   ]
  },
  {
   "cell_type": "code",
   "execution_count": null,
   "id": "cadd8cd0-ba82-4052-946c-1e5ee46c4393",
   "metadata": {},
   "outputs": [],
   "source": [
    "print(\"This will be printed:\", 1 + 1)\n",
    "1 + 1 # This will NOT be printed\n",
    "3 + 5 # This will be printed"
   ]
  },
  {
   "cell_type": "markdown",
   "id": "52ab9629-c501-4c08-b732-b63191cd86cd",
   "metadata": {},
   "source": [
    "That's great, but we often don't want to write out everything explicitly. Variables are a way for us to store data so that we can retrieve it at any point in time. "
   ]
  },
  {
   "cell_type": "code",
   "execution_count": null,
   "id": "d4d38f69-4a4b-4955-add2-a5579a169c2e",
   "metadata": {},
   "outputs": [],
   "source": [
    "# Let's add some numbers \n",
    "a = 17\n",
    "b = 5\n",
    "a - b"
   ]
  },
  {
   "cell_type": "markdown",
   "id": "1bf57bbe-d305-4b35-bc5c-a309df3b2318",
   "metadata": {},
   "source": [
    "For best practice, don't write out such ambiguous variables (NB: I may be hypocritical for the rest of the tutorial though)."
   ]
  },
  {
   "cell_type": "code",
   "execution_count": null,
   "id": "05aa3880-83d7-4d3a-af66-aa184a52aff7",
   "metadata": {},
   "outputs": [],
   "source": [
    "cost_of_annual_netflix_subscription = 19.99\n",
    "number_of_users_i_share_with = 4\n",
    "cost_per_user = cost_of_annual_netflix_subscription / number_of_users_i_share_with\n",
    "print(cost_per_user)"
   ]
  },
  {
   "cell_type": "markdown",
   "id": "1b3322a5-364b-4764-9cb1-7fad60355304",
   "metadata": {},
   "source": [
    "<font color='#F89536'> **Your turn!** </font> Try to make code to compute the following:\n",
    "    \n",
    "1. What is $(225 + 751) \\times 32$"
   ]
  },
  {
   "cell_type": "code",
   "execution_count": null,
   "id": "79ade8e5-4f1d-435f-a9b2-14aed21058ee",
   "metadata": {},
   "outputs": [],
   "source": [
    "# Your code here\n"
   ]
  },
  {
   "cell_type": "markdown",
   "id": "1a451a58-e79c-4f4a-9817-9e7dc44d5d06",
   "metadata": {},
   "source": [
    "2. Calculate $1^3 + 2^3 + 3^3 + 4^3$"
   ]
  },
  {
   "cell_type": "code",
   "execution_count": null,
   "id": "d450d403-2d8a-47a9-8cbd-a1ec6b5ebd55",
   "metadata": {},
   "outputs": [],
   "source": [
    "# Your code here\n"
   ]
  },
  {
   "cell_type": "markdown",
   "id": "a7d27dae-caa2-46a9-b3e7-1bc49049bb62",
   "metadata": {},
   "source": [
    "3. If the base of a triangle is $34$ and the height is $12$, what is the area? (Hint: The area of the triangle is $ 0.5 \\times base \\times height$). Fill in the `?` below."
   ]
  },
  {
   "cell_type": "code",
   "execution_count": null,
   "id": "979e1e26-5f44-47ca-8eec-9df8c0abb9b3",
   "metadata": {},
   "outputs": [],
   "source": [
    "# Your code here\n",
    "base = ?\n",
    "height = ?\n",
    "area = ?\n",
    "print(area)"
   ]
  },
  {
   "cell_type": "markdown",
   "id": "816b27f4-cc46-4b53-aac7-cbf2919c548d",
   "metadata": {},
   "source": [
    "4. Is $a = 1^3 + 12^3$ the same as $b = 9^3 + 10^3$. (Hint: Define `a = 1 ** 3 + 12 ** 3` etc. first). Fill in the `?` below."
   ]
  },
  {
   "cell_type": "code",
   "execution_count": null,
   "id": "434c2977-6d13-4029-a44f-3b3644354f66",
   "metadata": {},
   "outputs": [],
   "source": [
    "# Your code here\n",
    "a = ?\n",
    "b = ?\n",
    "print(?)"
   ]
  },
  {
   "cell_type": "markdown",
   "id": "f4ba9cd4-5dea-4acc-92e5-0901daf57d10",
   "metadata": {},
   "source": [
    "This is the famous [Ramanujan's taxi number](https://en.wikipedia.org/wiki/1729_(number))!\n",
    "\n",
    "5. (Bonus) Is $5457$ divisible by $17$? (Hint: `a % b` will give you the remainder -- eg. `5 % 4` will give `1`)"
   ]
  },
  {
   "cell_type": "code",
   "execution_count": null,
   "id": "c288e0f2-f64d-4124-84f1-bbe97315c51f",
   "metadata": {},
   "outputs": [],
   "source": [
    "# Your code here\n"
   ]
  },
  {
   "cell_type": "markdown",
   "id": "070a8da9-fb13-4f26-a4a2-025931e79c99",
   "metadata": {},
   "source": [
    "### Basic Data Types\n",
    "Although a computer stores all its data in a series of 0s and 1s as numbers, we often work with more than just numbers. Each variable you store must pertain to a particular **data type** so that when you retreive it, the computer knows what to display to you. Some common data types in Python are:\n",
    "\n",
    "| Data Type | Description | Examples |\n",
    "| --- | --- | --- |\n",
    "| Integer | Counting/whole numbers | `2` or `-3` |\n",
    "| Floats | Decimal numbers | `4.2` or `3.0e8` (the latter is in [scientific notation](https://en.wikipedia.org/wiki/Scientific_notation))\n",
    "| Strings | Sequences of characters (given with quotation marks) | `\"I am gr00t\"` |\n",
    "| Boolean | Either `True` or `False` | `True` or `False` |\n",
    "| List | A collection of items (can be any type) | `[\"apple\", \"orange\", \"banana\"]` or `[\"abc\", 34, True, 40, \"male\"]` |\n",
    "\n",
    "Let's have a look at some examples."
   ]
  },
  {
   "cell_type": "code",
   "execution_count": null,
   "id": "864c0a93-bbd2-41da-b4b9-72557ec33bb9",
   "metadata": {},
   "outputs": [],
   "source": [
    "integer = 3 # this is an integer\n",
    "floats = 3e8 # this is a float\n",
    "string = \"Woop Woop\" # this is a string\n",
    "boolean = True # this is a boolean\n",
    "\n",
    "a = 1 # this is an integer\n",
    "b = \"1\" # this is a string\n",
    "print(\"Adding integers together: \", a + a, \"...makes sense\")\n",
    "print(\"Adding strings together: \", b + b, \"...weird!\")"
   ]
  },
  {
   "cell_type": "markdown",
   "id": "9ac50e87-970b-4d0c-b214-a701a63785f0",
   "metadata": {},
   "source": [
    "You need to be very careful with data types to make sure you don't mix them, for example, you can't add an integer to a string.\n",
    "\n",
    "Lists are special because they are a collection of items any of the other four (or more) data types. To define a list, you must used square brackets `[ ]`. "
   ]
  },
  {
   "cell_type": "code",
   "execution_count": null,
   "id": "4908ab69-1c78-43f5-9272-d99a424d5674",
   "metadata": {},
   "outputs": [],
   "source": [
    "my_list = [\"apple\", \"banana\", \"cherry\"]"
   ]
  },
  {
   "cell_type": "markdown",
   "id": "8c76c016-418a-4d49-a64a-3429afd6a7b5",
   "metadata": {},
   "source": [
    "There are several properties of lists to keep in mind:\n",
    "* Length `len()`: How many elements are there in total\n",
    "* Index `[i]`: the i-th element of the list (nb: counting starts at 0)"
   ]
  },
  {
   "cell_type": "code",
   "execution_count": null,
   "id": "f48f657e-1fc0-456b-be0b-1be45397868f",
   "metadata": {},
   "outputs": [],
   "source": [
    "print(\"There are\", len(my_list), \"elements in my_list.\")\n",
    "print(\"The 2nd element of the list is:\", my_list[1])"
   ]
  },
  {
   "cell_type": "markdown",
   "id": "77462447-eb6c-4ea1-825a-054d6705256b",
   "metadata": {},
   "source": [
    "When in doubt you can always check the data type using `type()`!\n"
   ]
  },
  {
   "cell_type": "code",
   "execution_count": null,
   "id": "df6b7801-9674-4b8e-ba3c-6272513a8464",
   "metadata": {},
   "outputs": [],
   "source": [
    "type(my_list)"
   ]
  },
  {
   "cell_type": "markdown",
   "id": "a7053ecc-e8e5-4a49-9207-e59ba2165b70",
   "metadata": {},
   "source": [
    "### Specialised Data Types\n",
    "Python provides us with a set of useful data types. However, in reality, we often *import libraries* which extends the amount of data types (we will talk about importing libraries later on). Two key data types we want to touch on are:\n",
    "* Numpy Arrays\n",
    "* PyTorch Tensors\n",
    "\n",
    "We will touch on these as we go through the tutorial.\n",
    "\n",
    "---\n",
    "#### <font color='red'> **A Mathematical Aside: Scalar, Vectors, Matrices, and Tensors** </font>  \n",
    "* A single number is considered to be a **scalar**. You don't need indices to specify which element (`a`)\n",
    "* A (1D) collection of numbers (eg. a python list) is a **vector**. You need a single index to specify the element (`a[0]`)\n",
    "* A (2D) collection of numbers (eg. pixels in a 2D image) is a **matrix**. You need two indices to specify an element (`a[2,3]` you can think of this like a point on a map and needing both lat and long to specify a point in space).  \n",
    "All of the above are special cases of **Tensor**. For higher order tensors, you need more than two indices to specify an element. For example if you have a colour image, you have 3 channels (RGB) as well as the 2D image (`a[1,2,3]` -- the 2nd channel [Green], the 3rd row, and 4th column pixel).\n",
    "\n",
    "\n",
    "![tensor](../images/tensor.png)  \n",
    "[source](https://www.researchgate.net/figure/Tensors-as-generalizations-of-scalars-vectors-and-matrices_fig3_332263806)\n",
    "\n",
    "---"
   ]
  },
  {
   "cell_type": "markdown",
   "id": "cb58a88c-0785-477b-85e3-f4edef7a920d",
   "metadata": {},
   "source": [
    "### Loops\n",
    "Programming can be quite repetitive, you may be doing the same thing over and over again. To facilitate this, loops are an important aspect. Let's say you want to see what each element in our fruit list is."
   ]
  },
  {
   "cell_type": "code",
   "execution_count": 20,
   "id": "c47f6587-3fd6-4b50-8d1a-afebbced265b",
   "metadata": {},
   "outputs": [],
   "source": [
    "my_fruit_list = [\"apple\", \"banana\", \"cherry\"]"
   ]
  },
  {
   "cell_type": "code",
   "execution_count": 21,
   "id": "eeaa175d-e924-4f6d-a3a3-a01a0964f65e",
   "metadata": {},
   "outputs": [
    {
     "name": "stdout",
     "output_type": "stream",
     "text": [
      "apple\n",
      "banana\n",
      "cherry\n"
     ]
    }
   ],
   "source": [
    "# Method 1: Access each element of the list directly\n",
    "for fruit in my_fruit_list:\n",
    "    print(fruit)"
   ]
  },
  {
   "cell_type": "code",
   "execution_count": 25,
   "id": "b6445fea-c73d-4d8b-9aad-1d5994cdb463",
   "metadata": {},
   "outputs": [
    {
     "name": "stdout",
     "output_type": "stream",
     "text": [
      "apple\n",
      "banana\n",
      "cherry\n",
      "<class 'range'>\n"
     ]
    }
   ],
   "source": [
    "# Method 2: Access each element of the list via indices\n",
    "for i in range(len(my_fruit_list)):\n",
    "    print(my_fruit_list[i])"
   ]
  },
  {
   "cell_type": "markdown",
   "id": "aba14f1e-5700-441b-acf5-481501a7387a",
   "metadata": {},
   "source": [
    "<font color='#F89536'> **Discussion:** </font> What does the `range(len(my_fruit_list))` actually do?"
   ]
  },
  {
   "cell_type": "markdown",
   "id": "7ebdae1d-cd07-4087-9661-2fdbeed5ca1b",
   "metadata": {},
   "source": [
    "### Functions\n",
    "Sometimes we want to run the same block of code over and over again in different parts of our program. We *can* just copy and paste the code, but what happens if we need to make a change to it? This is where functions come in."
   ]
  },
  {
   "cell_type": "code",
   "execution_count": 32,
   "id": "1b3d92c6-2973-4c8d-90a9-df44fc95d2f0",
   "metadata": {},
   "outputs": [],
   "source": [
    "def pig_latin_translator(english):\n",
    "    \"\"\" This is also a comment!! Typically comments like this are put here to describe the function\"\"\"\n",
    "    \"\"\" This function translates English words to Pig Latin\"\"\"\n",
    "    assert type(english) == str # this makes sure we are putting in strings\n",
    "    first_letter = english[0] # just like lists, you can get elements (characters) of a string\n",
    "    rest_of_word = english[1:] # here we select the 2nd element onwards\n",
    "    pig_latin = rest_of_word + first_letter + \"ay\"\n",
    "    return pig_latin"
   ]
  },
  {
   "cell_type": "markdown",
   "id": "60e7ae24-3682-4d74-8693-0546593bfcc0",
   "metadata": {},
   "source": [
    "<font color='#F89536'> **Discussion:** </font> What happens when you put in a non-string input? What happens when you put in more than a single word?"
   ]
  },
  {
   "cell_type": "markdown",
   "id": "783016a6-27cd-4322-8d60-1e15990eb3ae",
   "metadata": {},
   "source": [
    "More often than not, functions are already written out for us (eg. `print()`). Something about libraries!"
   ]
  }
 ],
 "metadata": {
  "kernelspec": {
   "display_name": "cnn-tutorial",
   "language": "python",
   "name": "cnn-tutorial"
  },
  "language_info": {
   "codemirror_mode": {
    "name": "ipython",
    "version": 3
   },
   "file_extension": ".py",
   "mimetype": "text/x-python",
   "name": "python",
   "nbconvert_exporter": "python",
   "pygments_lexer": "ipython3",
   "version": "3.9.7"
  }
 },
 "nbformat": 4,
 "nbformat_minor": 5
}
