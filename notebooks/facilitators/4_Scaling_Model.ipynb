{
 "cells": [
  {
   "cell_type": "markdown",
   "id": "d73a9c12-b053-4227-9fce-3801289bf63c",
   "metadata": {},
   "source": [
    "# 🚀 Part 4: To Infinity and Beyond!"
   ]
  },
  {
   "cell_type": "markdown",
   "id": "dbce92ad-8620-4f7c-87b1-53288d4ff43a",
   "metadata": {},
   "source": [
    "---\n",
    "## <font color='#F89536'> **Discussion:** </font> \n",
    "How did that compare with our previous model? How does that compare with random assignment? What can be done to improve the model?\n",
    "\n",
    "<font color='Red'> It should be better than previous and random assignment. To improve the model, run it over more epochs, do hyperparameter training etc. </font> \n",
    "\n",
    "---"
   ]
  },
  {
   "cell_type": "markdown",
   "id": "ec8eeca6-adc7-4d82-a757-ec6157919b3e",
   "metadata": {},
   "source": [
    "---\n",
    "## <font color='#F89536'> **Discussion:** </font> \n",
    "What is the optimal number of epochs from the graph above?\n",
    "\n",
    "<font color='Red'> Around 25-30 </font> \n",
    "\n",
    "---"
   ]
  }
 ],
 "metadata": {
  "kernelspec": {
   "display_name": "cnn-tutorial",
   "language": "python",
   "name": "cnn-tutorial"
  },
  "language_info": {
   "codemirror_mode": {
    "name": "ipython",
    "version": 3
   },
   "file_extension": ".py",
   "mimetype": "text/x-python",
   "name": "python",
   "nbconvert_exporter": "python",
   "pygments_lexer": "ipython3",
   "version": "3.9.7"
  }
 },
 "nbformat": 4,
 "nbformat_minor": 5
}
