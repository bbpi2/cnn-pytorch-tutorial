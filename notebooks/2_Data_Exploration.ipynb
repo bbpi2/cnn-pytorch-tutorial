{
 "cells": [
  {
   "cell_type": "markdown",
   "id": "4981038e-6c84-4135-8bd7-e9951ee239d6",
   "metadata": {},
   "source": [
    "# 🏞️ Part 2: Data Exploration\n",
    "Before we begin, we are going to load some of the key libraries into our environment. There is no need to memorise them as we go along, but here is a brief list:\n",
    "\n",
    "| Library | Description |\n",
    "| --- | --- |\n",
    "| `torch` | This is the core `PyTorch` library doing most of the heavy lifting |\n",
    "| `torchvision` | This is how we will extract the data (if needed), and apply some cleaning to images |\n",
    "| `random` | This library provides random number generators. This is important if we want to sample images from our dataset | \n",
    "| `matplotlib.pyplot` | This is a very popular plotting library |\n",
    "| `time` | This has functions which allows us to keep track of how long the code takes to run |\n",
    "| `IPython` | This libraries allows us to access some of the options of these notebooks |\n",
    "| `numpy` | This is a very popular data manipulation library |\n",
    "| `helper` | A user-defined module (see the `./helper` subfolder for more details) of useful functions and classes |\n"
   ]
  },
  {
   "cell_type": "code",
   "execution_count": 5,
   "id": "7b33c148-5646-45a1-91e0-73bde9be79bf",
   "metadata": {},
   "outputs": [],
   "source": [
    "# Import relevant libraries\n",
    "import torch \n",
    "import torchvision\n",
    "from torch import nn \n",
    "from torchvision import transforms\n",
    "from torch.utils import data\n",
    "import random\n",
    "import matplotlib.pyplot as plt\n",
    "import time\n",
    "from IPython import display\n",
    "import numpy as np\n",
    "from helper import helper\n",
    "\n",
    "random.seed(2021) # We set a seed to ensure our samples will be the same every time we run the code."
   ]
  },
  {
   "cell_type": "markdown",
   "id": "c42c2a17-3531-463b-89d9-b6cf3a035790",
   "metadata": {},
   "source": [
    "## ⚗️ The Data Science Pipleine \n",
    "*This section will be repeated in both Part 2 and Part 3*\n",
    "\n",
    "> What on earth is data science?! -- George Washington (probably not)\n",
    "\n",
    "Seriously though, nowadays, in such a data-rich world, data science has become the new buzzword, the new cool kid in the block. But what exactly is it? Unfortunately, no one can really pin down a [rigourous definition](https://hdsr.mitpress.mit.edu/pub/jhy4g6eg/release/7) of data science. At the high level:\n",
    "\n",
    "> Data science is the systematic extraction of novel insight from data.\n",
    "\n",
    "Good enough! With this definition, most practitioners can somewhat agree on a pipeline or flow. Here are the steps:\n",
    "1. Identify your problem (What are you trying to do?)\n",
    "2. Obtain your data (What resource do we have to work with?)\n",
    "3. Explore your data (What does our data actually look like?)\n",
    "4. Prepare your data (How do we clean/wrangle our data to make it ingestible?)\n",
    "5. Model your data (How do we automate the process of drawing out insights?)\n",
    "6. Evaluate your model (How good are our predictions?)\n",
    "7. Deploy your model (How can the wider-user base access these insights?)\n",
    "\n",
    "The 7th step is out-of-scope for this workshop, but we well be exploring the other steps to varying degrees:\n",
    "* Steps 1-4 will be explored in Part 2.\n",
    "* Steps 5-6 will be explored in Part 3 and 4.\n"
   ]
  },
  {
   "cell_type": "markdown",
   "id": "18f5ba8e-6ae6-47b3-bbf5-8fb23a060fae",
   "metadata": {},
   "source": [
    "## Step 1: Identify Your Problem \n",
    "![cc](../images/confused_cat.jpg)\n",
    "\n",
    "**Figure:** A day-to-day snapshot of a data scientist at work. ([source](https://s.keepmeme.com/files/en_posts/20200925/confused-cat-looking-at-computer-with-a-lot-of-question-marks-meme-861f3efff59aedea603e35b8c3c059f0.jpg))\n",
    "\n",
    "The problem:\n",
    "* Your boss comes up to you and gives you a stack of black & white photos\n",
    "* You get told you need to identify what item of clothing each photo represents (eg. t-shirt)\n",
    "* You get a stack of 70,000 labelled picture to give you an idea of the task\n",
    "\n",
    "*What do you do?!* You can label them by hand if there are only 100 or 1000 unlabelled images. But what if there are 1,000,000? This manual labelling is not tenable in the long term.\n",
    "\n",
    "Why use automated image recognition?\n",
    "* **Scalable** -- provided you have a reasonable model and enough computational resources, getting a computer to label images is ***a lot*** easier.\n",
    "* **Consistent** -- the output of the model is going to be more consistent than any crack team of labelers you can assemble (we are but humans after all)."
   ]
  },
  {
   "cell_type": "markdown",
   "id": "41dac7d9-0306-4f4a-840b-70872631c283",
   "metadata": {},
   "source": [
    "## Step 2: Obtain Your Data\n",
    "Alright, you decided you probably won't manually label \\* phew \\*. What next? Lucky for you, your boss provided you with some initial information:\n",
    "* There are 70,000 labelled images.\n",
    "* Each image is an item of clothing.\n",
    "* Each image is a 28x28 sized image (784 pixels in total).\n",
    "* Each pixel is black and white, and has a value between 0 and 255 indicating the brightness of the pixel\n",
    "* There are a total of 10 types of items of clothing.\n",
    "\n",
    "| Label | Type of Clothing |\n",
    "| --- | --- |\n",
    "| 0 | T-shirt/top |\n",
    "| 1 | Trouser |\n",
    "| 2 | Pullover |\n",
    "| 3 | Dress |\n",
    "| 4 | Coat | \n",
    "| 5 | Sandal |\n",
    "| 6 | Shirt |\n",
    "| 7 | Sneaker |\n",
    "| 8 | Bag |\n",
    "| 9 | Ankle Boot |\n",
    "\n",
    "For example, the following is an image of a boot:\n",
    "\n",
    "![Boot](../images/boot.png)\n",
    "\n",
    "In fact, the dataset we are working with is called the [Fashion MNIST](https://www.kaggle.com/zalando-research/fashionmnist). We will write a function below to extract all the labelled data into either train or test sets (`train_iter` and `test_iter` respectively). Don't worry too much about the details of the function, the key point is the input parameters. In Step 4, we will discuss why a split between train and test is necessary in the first place.\n",
    "\n",
    "The function `load_data_fashion_mnist` takes in two input arguments. But don't worry too much about what they mean, we can use some set values.\n",
    "* `batch_size`: The number of examples we use in each step of the gradient descent. There is a general trade off:\n",
    "    * Small batch size: Less stable training (since our gradient descent is reliant on very few examples)\n",
    "    * Large batch size: Tends to be a bit slower and requires a bit more memory.\n",
    "* and `n_workers`: The number of computer (CPU or GPU) cores engaged in reading the data.\n",
    "\n",
    "The recommended argument will be different depending on whether you are running this on mybinder or your own machine.\n",
    "\n",
    "#### For mybinder users\n",
    "Due to limited resources, these values seem to provide a stable outcome:\n",
    "* `batch_size = 1024`\n",
    "* `n_workers = 0`\n",
    "\n",
    "#### For those on their own machines\n",
    "You should have more resources than mybinder, we recommend the following:\n",
    "* `batch_size = 256`\n",
    "* `n_workers = 4`\n",
    "\n",
    "Note if you are using GPU acceleration, you may choose to use more worker nodes. See the Appendix for more detail."
   ]
  },
  {
   "cell_type": "code",
   "execution_count": 6,
   "id": "7d8d2fcc-7942-4df7-9461-dcedec864de5",
   "metadata": {},
   "outputs": [],
   "source": [
    "# First define the function without running it\n",
    "def load_data_fashion_mnist(batch_size, n_workers):\n",
    "    \"\"\"Download the Fashion-MNIST dataset and then load it into memory.\"\"\"\n",
    "    trans = [transforms.ToTensor()]\n",
    "    trans = transforms.Compose(trans)\n",
    "    mnist_train = torchvision.datasets.FashionMNIST(root=\"../data\",\n",
    "                                                    train=True,\n",
    "                                                    transform=trans,\n",
    "                                                    download=True)\n",
    "    mnist_test = torchvision.datasets.FashionMNIST(root=\"../data\",\n",
    "                                                   train=False,\n",
    "                                                   transform=trans,\n",
    "                                                   download=True)\n",
    "    return (data.DataLoader(mnist_train, batch_size, shuffle=True,\n",
    "                            num_workers=n_workers),\n",
    "            data.DataLoader(mnist_test, batch_size, shuffle=False,\n",
    "                            num_workers=n_workers))\n",
    "\n",
    "# Then execute the function here\n",
    "batch_size = 1024  # Set to 256 on your own device\n",
    "n_workers = 0      # Set to 4 on your own device\n",
    "train_iter, test_iter = load_data_fashion_mnist(batch_size=batch_size, n_workers = n_workers)"
   ]
  },
  {
   "cell_type": "markdown",
   "id": "ad1919da-70f7-4174-b168-6aac3bea2c02",
   "metadata": {},
   "source": [
    "Note that for this particular example, we didn't have to explicitly split the data into train and test set, it came pre-split:\n",
    "* 60,000 images into `train_iter`\n",
    "* 10,000 images into `test_iter`\n",
    "\n",
    "Let's see if we can have a look at it with a `print()` statement"
   ]
  },
  {
   "cell_type": "code",
   "execution_count": 7,
   "id": "2ed9d889-2cb4-43e5-bdec-1bc13489829c",
   "metadata": {},
   "outputs": [
    {
     "name": "stdout",
     "output_type": "stream",
     "text": [
      "<torch.utils.data.dataloader.DataLoader object at 0x000001AF0A8F69D0>\n"
     ]
    }
   ],
   "source": [
    "print(test_iter)"
   ]
  },
  {
   "cell_type": "markdown",
   "id": "6112a5c3-4ccb-446e-98c5-b95d3d6738b0",
   "metadata": {},
   "source": [
    "Weird, it's not printing out the mini-batch, but rather some weird thing called a `DataLoader object`. There's actually a really good reason for this! If we are dealing with big datasets, reading the data in as a table would mean we need to store the entire thing in memory (RAM) - this can be up to 10-20GB which can cripple a normal computer! Instead we use the `DataLoader object` to read in the dataset *as we need it* (and discarding it otherwise). This might be a bit slower, but far more manageable in terms of memory resources. This means there's a very particular way to extract a single example, which we will attempt to do below:"
   ]
  },
  {
   "cell_type": "code",
   "execution_count": 8,
   "id": "a5e3e7bc-cf6e-4a93-8a14-dd269bb1187e",
   "metadata": {},
   "outputs": [
    {
     "name": "stdout",
     "output_type": "stream",
     "text": [
      "The number of mini-batches we have extracted are: 3\n",
      "Out of the 3 mini-batches, we have selected the 3 th one.\n",
      "The number of images in the mini-batch we selected are: 1024  and  1024 . Note these two values should be equal.\n",
      "The shape of the predictor torch.Size([1, 28, 28])\n",
      "The shape of the label torch.Size([])\n"
     ]
    }
   ],
   "source": [
    "# First we extract a few random batches (say 3), each of which will have up to your set batch_size (eg. 1024 for mybinder)\n",
    "sampled_batches = random.sample(list(train_iter), 3)\n",
    "print(\"The number of mini-batches we have extracted are:\", len(sampled_batches))\n",
    "\n",
    "# Second we select a single batch to look at, let's say the 3rd one\n",
    "batch_no = 2\n",
    "## 0 denotes the predictors\n",
    "## 1 denotes the labels\n",
    "predictor = sampled_batches[batch_no][0]\n",
    "label = sampled_batches[batch_no][1]\n",
    "print(\"Out of the\", len(sampled_batches), \"mini-batches, we have selected the\", batch_no + 1, \"th one.\")\n",
    "print(\"The number of images in the mini-batch we selected are:\" , len(predictor), \" and \", len(label), \". Note these two values should be equal.\")\n",
    "\n",
    "# Third, we select a single example in the batch, let's say the 100th one\n",
    "example_no = 99\n",
    "single_predictor = predictor[example_no]\n",
    "single_label = label[example_no]\n",
    "print(\"The shape of the predictor\", single_predictor.shape)\n",
    "print(\"The shape of the label\", single_label.shape)"
   ]
  },
  {
   "cell_type": "markdown",
   "id": "283a4ff0-df38-4d26-8589-36e90b8e051d",
   "metadata": {},
   "source": [
    "In the last two lines, we have printed the `shape` of our selected example/image:\n",
    "* The predictor has `[1, 28, 28]`:\n",
    "    * The `1` represents the number of channels (since it's black and white this is only 1. For colour, it's 3 RGB).\n",
    "    * The `28` and `28` represents the dimension of the image (28x28)\n",
    "* The label has `[]`: this means it's just a number\n",
    "\n",
    "Let's try to show the predictor and label:"
   ]
  },
  {
   "cell_type": "code",
   "execution_count": 9,
   "id": "efbdce18-f4a0-49d6-9700-edb2efd592ed",
   "metadata": {},
   "outputs": [
    {
     "data": {
      "image/png": "[encoded data removed]",
      "text/plain": [
       "<Figure size 432x288 with 1 Axes>"
      ]
     },
     "metadata": {
      "needs_background": "light"
     },
     "output_type": "display_data"
    },
    {
     "name": "stdout",
     "output_type": "stream",
     "text": [
      "This shows an image of:  8\n"
     ]
    }
   ],
   "source": [
    "plt.imshow(single_predictor[0]) # print only the one channel of BW\n",
    "plt.show()\n",
    "\n",
    "print(\"This shows an image of: \", int(single_label))"
   ]
  },
  {
   "cell_type": "markdown",
   "id": "08acb39c-fe12-4b4b-96ee-00eeacb7edd6",
   "metadata": {},
   "source": [
    "Check if this makes sense according to the label table above!"
   ]
  },
  {
   "cell_type": "markdown",
   "id": "5b468ca6-1978-4525-8b2d-3a401deb2212",
   "metadata": {},
   "source": [
    "## Step 3: Explore Your Data\n",
    "The Fashion MNIST data we have is relatively clean. Not much needs to be done here. But let's have a look at the class distribution of the train/test data. It is important that the training data has enough examples to 'learn' the patterns of each class. Ideally a balanced class (with similar number of examples for each) is best.\n",
    "\n",
    "Let's see what the class distribution is like."
   ]
  },
  {
   "cell_type": "code",
   "execution_count": 10,
   "id": "1885bcec-2eaf-4e4d-9dfa-6132033f635b",
   "metadata": {},
   "outputs": [
    {
     "name": "stdout",
     "output_type": "stream",
     "text": [
      "Train Data:\n",
      "Class 0 has 6000 images\n",
      "Class 1 has 6000 images\n",
      "Class 2 has 6000 images\n",
      "Class 3 has 6000 images\n",
      "Class 4 has 6000 images\n",
      "Class 5 has 6000 images\n",
      "Class 6 has 6000 images\n",
      "Class 7 has 6000 images\n",
      "Class 8 has 6000 images\n",
      "Class 9 has 6000 images\n",
      "Test Data\n",
      "Class 0 has 1000 images\n",
      "Class 1 has 1000 images\n",
      "Class 2 has 1000 images\n",
      "Class 3 has 1000 images\n",
      "Class 4 has 1000 images\n",
      "Class 5 has 1000 images\n",
      "Class 6 has 1000 images\n",
      "Class 7 has 1000 images\n",
      "Class 8 has 1000 images\n",
      "Class 9 has 1000 images\n"
     ]
    }
   ],
   "source": [
    "def data_explore(data_iter):\n",
    "    class_count = helper.Accumulator(10)\n",
    "    for i, (X, y) in enumerate(data_iter):\n",
    "        current_counter = torch.bincount(y)\n",
    "        class_count.add(current_counter[0], current_counter[1], current_counter[2], current_counter[3], current_counter[4],\n",
    "                  current_counter[5], current_counter[6], current_counter[7], current_counter[8], current_counter[9]) # This is bad coding practice, don't do this!\n",
    "    for i in range(10):\n",
    "        print(\"Class\", i, \"has\", int(class_count.__getitem__(i)), \"images\")\n",
    "        \n",
    "    return\n",
    "        \n",
    "print(\"Train Data:\")\n",
    "data_explore(train_iter)\n",
    "print(\"Test Data\")\n",
    "data_explore(test_iter)"
   ]
  },
  {
   "cell_type": "markdown",
   "id": "fb4d3a7c-b818-48ac-ab9d-c352340d9d38",
   "metadata": {},
   "source": [
    "![](../images/thanos.jpg)\n",
    "\n",
    "([source](https://i.kym-cdn.com/entries/icons/original/000/027/257/perfectly-balanced-as-all-things-should-be.jpg))\n",
    "\n",
    "In reality, your data won't be this perfect, it's always worth checking and understanding class balances!"
   ]
  },
  {
   "cell_type": "markdown",
   "id": "821303b4-092e-45cd-9b32-6448122e0166",
   "metadata": {},
   "source": [
    "## Step 4: Prepare Your Data\n",
    "This was something we have previously alluded to, but we have 70,000 labelled examples. Perfect! Do we throw them all into the training/fitting process of the model?\n",
    "\n",
    "The answer is **NO**. Why is that though? Doesn't more data = better model?\n",
    "\n",
    "![yesbutno](../images/yesbutno.jpg)\n",
    "\n",
    "The reason lies in a concept known as **overfitting**. Remember, our goal is to make sure the model works well on hiterto unseen data (ie. unlabelled data). If we just throw all the data we have into the train process, then we won't have access to an independent dataset to evaluate the model. Later on, we will see how the test data can be used to assess overfitting. For now, just remember that it is vital that we have an (representative) subset of the labelled data set aside for evaluation. For the purposes of this example, 60,000 images will be used to train and 10,000 images will be used to test:\n",
    "* `Train` -- this is the data we use to fit the model (n=60,000)\n",
    "* `Validate` -- we will not be using this today to tune hyper-parameters\n",
    "* `Test` -- this is the data we use to determine the model performance (n=10,000)\n",
    "\n",
    "#### Aside: Validate \\& Hyperparameters\n",
    "**Hyperparameters** are parameters of the model that the user has to provide (as opposed to parameters the model finds such as the weights of a neural network). Examples of this might be the learning rate of the gradient descent method (denoted by `lr` later). Since these parameters have to be provided by the user, we need to decide on its value somehow. In the absence of any external information (eg. someone told us a particular learning rate is really good), we use the validate set (independent of train and test) to set these. In the example of learning rate, we may try the learning rate in increments of `0.1` between `0.1` and `0.9`. Then we choose the hyperparameter which gives us the best performance when assessed against the validate set.\n",
    "\n",
    "*For the purpose of this tutorial, we will not do any hyperparameter tuning, so a validate set was not used.*"
   ]
  },
  {
   "cell_type": "markdown",
   "id": "6c3acd82-c9df-42b1-93b5-5cb6b97155d3",
   "metadata": {},
   "source": [
    "---"
   ]
  }
 ],
 "metadata": {
  "kernelspec": {
   "display_name": "cnn-tutorial",
   "language": "python",
   "name": "cnn-tutorial"
  },
  "language_info": {
   "codemirror_mode": {
    "name": "ipython",
    "version": 3
   },
   "file_extension": ".py",
   "mimetype": "text/x-python",
   "name": "python",
   "nbconvert_exporter": "python",
   "pygments_lexer": "ipython3",
   "version": "3.9.7"
  }
 },
 "nbformat": 4,
 "nbformat_minor": 5
}
